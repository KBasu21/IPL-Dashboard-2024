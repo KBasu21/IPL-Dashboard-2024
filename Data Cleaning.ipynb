{
 "cells": [
  {
   "cell_type": "code",
   "execution_count": 1,
   "metadata": {},
   "outputs": [],
   "source": [
    "import pandas as pd\n",
    "import numpy as np\n",
    "from rapidfuzz import process, fuzz"
   ]
  },
  {
   "cell_type": "markdown",
   "metadata": {},
   "source": [
    "## Dealing with \"batting_performances.csv\" file"
   ]
  },
  {
   "cell_type": "code",
   "execution_count": 2,
   "metadata": {},
   "outputs": [],
   "source": [
    "batting = pd.read_csv(\"CSVs/batting_performances_matchwise.csv\")"
   ]
  },
  {
   "cell_type": "code",
   "execution_count": 3,
   "metadata": {},
   "outputs": [
    {
     "data": {
      "application/vnd.microsoft.datawrangler.viewer.v0+json": {
       "columns": [
        {
         "name": "index",
         "rawType": "int64",
         "type": "integer"
        },
        {
         "name": "Name",
         "rawType": "object",
         "type": "string"
        },
        {
         "name": "Runs",
         "rawType": "int64",
         "type": "integer"
        },
        {
         "name": "Balls Faced",
         "rawType": "int64",
         "type": "integer"
        },
        {
         "name": "Fours",
         "rawType": "int64",
         "type": "integer"
        },
        {
         "name": "Sixes",
         "rawType": "int64",
         "type": "integer"
        },
        {
         "name": "Strike Rate",
         "rawType": "float64",
         "type": "float"
        }
       ],
       "conversionMethod": "pd.DataFrame",
       "ref": "940cda80-ef12-4e36-97cc-35154bbd28bb",
       "rows": [
        [
         "0",
         "Virat Kohli",
         "21",
         "20",
         "0",
         "1",
         "105.0"
        ],
        [
         "1",
         "Faf du Plessis",
         "35",
         "23",
         "8",
         "0",
         "152.17"
        ],
        [
         "2",
         "Rajat Patidar",
         "0",
         "3",
         "0",
         "0",
         "0.0"
        ],
        [
         "3",
         "Glenn Maxwell",
         "0",
         "1",
         "0",
         "0",
         "0.0"
        ],
        [
         "4",
         "Cameron Green",
         "18",
         "22",
         "1",
         "0",
         "81.81"
        ]
       ],
       "shape": {
        "columns": 6,
        "rows": 5
       }
      },
      "text/html": [
       "<div>\n",
       "<style scoped>\n",
       "    .dataframe tbody tr th:only-of-type {\n",
       "        vertical-align: middle;\n",
       "    }\n",
       "\n",
       "    .dataframe tbody tr th {\n",
       "        vertical-align: top;\n",
       "    }\n",
       "\n",
       "    .dataframe thead th {\n",
       "        text-align: right;\n",
       "    }\n",
       "</style>\n",
       "<table border=\"1\" class=\"dataframe\">\n",
       "  <thead>\n",
       "    <tr style=\"text-align: right;\">\n",
       "      <th></th>\n",
       "      <th>Name</th>\n",
       "      <th>Runs</th>\n",
       "      <th>Balls Faced</th>\n",
       "      <th>Fours</th>\n",
       "      <th>Sixes</th>\n",
       "      <th>Strike Rate</th>\n",
       "    </tr>\n",
       "  </thead>\n",
       "  <tbody>\n",
       "    <tr>\n",
       "      <th>0</th>\n",
       "      <td>Virat Kohli</td>\n",
       "      <td>21</td>\n",
       "      <td>20</td>\n",
       "      <td>0</td>\n",
       "      <td>1</td>\n",
       "      <td>105.00</td>\n",
       "    </tr>\n",
       "    <tr>\n",
       "      <th>1</th>\n",
       "      <td>Faf du Plessis</td>\n",
       "      <td>35</td>\n",
       "      <td>23</td>\n",
       "      <td>8</td>\n",
       "      <td>0</td>\n",
       "      <td>152.17</td>\n",
       "    </tr>\n",
       "    <tr>\n",
       "      <th>2</th>\n",
       "      <td>Rajat Patidar</td>\n",
       "      <td>0</td>\n",
       "      <td>3</td>\n",
       "      <td>0</td>\n",
       "      <td>0</td>\n",
       "      <td>0.00</td>\n",
       "    </tr>\n",
       "    <tr>\n",
       "      <th>3</th>\n",
       "      <td>Glenn Maxwell</td>\n",
       "      <td>0</td>\n",
       "      <td>1</td>\n",
       "      <td>0</td>\n",
       "      <td>0</td>\n",
       "      <td>0.00</td>\n",
       "    </tr>\n",
       "    <tr>\n",
       "      <th>4</th>\n",
       "      <td>Cameron Green</td>\n",
       "      <td>18</td>\n",
       "      <td>22</td>\n",
       "      <td>1</td>\n",
       "      <td>0</td>\n",
       "      <td>81.81</td>\n",
       "    </tr>\n",
       "  </tbody>\n",
       "</table>\n",
       "</div>"
      ],
      "text/plain": [
       "             Name  Runs  Balls Faced  Fours  Sixes  Strike Rate\n",
       "0     Virat Kohli    21           20      0      1       105.00\n",
       "1  Faf du Plessis    35           23      8      0       152.17\n",
       "2   Rajat Patidar     0            3      0      0         0.00\n",
       "3   Glenn Maxwell     0            1      0      0         0.00\n",
       "4   Cameron Green    18           22      1      0        81.81"
      ]
     },
     "execution_count": 3,
     "metadata": {},
     "output_type": "execute_result"
    }
   ],
   "source": [
    "batting.head()"
   ]
  },
  {
   "cell_type": "markdown",
   "metadata": {},
   "source": [
    "#### Grouping by Names and adding Runs, Balls Faced, Fours, Sixes and Strike Rate"
   ]
  },
  {
   "cell_type": "code",
   "execution_count": 4,
   "metadata": {},
   "outputs": [],
   "source": [
    "batting_summary = (\n",
    "    batting.groupby('Name').agg(\n",
    "          Total_Runs       = ('Runs', 'sum'),\n",
    "          Batting_Average  = ('Runs', 'mean'),\n",
    "          Balls_Faced      = ('Balls Faced', 'sum'),\n",
    "          Fours            = ('Fours', 'sum'),\n",
    "          Sixes            = ('Sixes', 'sum'),\n",
    "          Strike_Rate      = ('Strike Rate', 'mean')\n",
    "      ).reset_index()\n",
    ")"
   ]
  },
  {
   "cell_type": "code",
   "execution_count": 5,
   "metadata": {},
   "outputs": [
    {
     "data": {
      "application/vnd.microsoft.datawrangler.viewer.v0+json": {
       "columns": [
        {
         "name": "index",
         "rawType": "int64",
         "type": "integer"
        },
        {
         "name": "Name",
         "rawType": "object",
         "type": "string"
        },
        {
         "name": "Total_Runs",
         "rawType": "int64",
         "type": "integer"
        },
        {
         "name": "Batting_Average",
         "rawType": "float64",
         "type": "float"
        },
        {
         "name": "Balls_Faced",
         "rawType": "int64",
         "type": "integer"
        },
        {
         "name": "Fours",
         "rawType": "int64",
         "type": "integer"
        },
        {
         "name": "Sixes",
         "rawType": "int64",
         "type": "integer"
        },
        {
         "name": "Strike_Rate",
         "rawType": "float64",
         "type": "float"
        }
       ],
       "conversionMethod": "pd.DataFrame",
       "ref": "bac3785e-a42e-403b-a109-e75d4ff72693",
       "rows": [
        [
         "0",
         "Abdul Samad",
         "182",
         "15.166666666666666",
         "108",
         "15",
         "11",
         "150.19750000000002"
        ],
        [
         "1",
         "Abhinav Manohar",
         "9",
         "4.5",
         "16",
         "1",
         "0",
         "53.57"
        ],
        [
         "2",
         "Abhishek Sharma",
         "484",
         "30.25",
         "237",
         "36",
         "42",
         "189.463125"
        ],
        [
         "3",
         "Abishek Porel",
         "327",
         "27.25",
         "205",
         "36",
         "13",
         "147.81"
        ],
        [
         "4",
         "Aiden Markram",
         "220",
         "20.0",
         "177",
         "18",
         "4",
         "98.71727272727271"
        ],
        [
         "5",
         "Ajinkya Rahane",
         "242",
         "20.166666666666668",
         "196",
         "23",
         "7",
         "104.0825"
        ],
        [
         "6",
         "Akash Deep",
         "2",
         "2.0",
         "2",
         "0",
         "0",
         "100.0"
        ],
        [
         "7",
         "Akash Madhwal",
         "4",
         "4.0",
         "5",
         "0",
         "0",
         "80.0"
        ],
        [
         "8",
         "Andre Russell",
         "222",
         "24.666666666666668",
         "120",
         "20",
         "16",
         "189.8"
        ],
        [
         "9",
         "Angkrish Raghuvanshi",
         "163",
         "23.285714285714285",
         "105",
         "16",
         "8",
         "147.34"
        ],
        [
         "10",
         "Anmolpreet Singh",
         "5",
         "2.5",
         "6",
         "1",
         "0",
         "50.0"
        ],
        [
         "11",
         "Anrich Nortje",
         "4",
         "2.0",
         "8",
         "0",
         "0",
         "33.33"
        ],
        [
         "12",
         "Anshul Kamboj",
         "2",
         "2.0",
         "2",
         "0",
         "0",
         "100.0"
        ],
        [
         "13",
         "Anuj Rawat",
         "98",
         "19.6",
         "77",
         "10",
         "3",
         "120.304"
        ],
        [
         "14",
         "Anukul Roy",
         "3",
         "3.0",
         "3",
         "0",
         "0",
         "100.0"
        ],
        [
         "15",
         "Arshad Khan",
         "83",
         "20.75",
         "54",
         "6",
         "5",
         "106.4375"
        ],
        [
         "16",
         "Arshdeep Singh",
         "4",
         "4.0",
         "3",
         "1",
         "0",
         "133.33"
        ],
        [
         "17",
         "Arshin Kulkarni",
         "9",
         "4.5",
         "8",
         "2",
         "0",
         "64.285"
        ],
        [
         "18",
         "Ashton Turner",
         "21",
         "10.5",
         "18",
         "0",
         "2",
         "116.66"
        ],
        [
         "19",
         "Ashutosh Sharma",
         "189",
         "21.0",
         "113",
         "10",
         "15",
         "140.29444444444445"
        ],
        [
         "20",
         "Atharva Taide",
         "61",
         "30.5",
         "39",
         "7",
         "2",
         "147.685"
        ],
        [
         "21",
         "Avesh Khan",
         "10",
         "3.3333333333333335",
         "5",
         "1",
         "0",
         "127.77666666666669"
        ],
        [
         "22",
         "Axar Patel",
         "235",
         "19.583333333333332",
         "179",
         "19",
         "10",
         "116.50583333333333"
        ],
        [
         "23",
         "Ayush Badoni",
         "235",
         "19.583333333333332",
         "171",
         "22",
         "5",
         "114.98333333333333"
        ],
        [
         "24",
         "Azmatullah Omarzai",
         "42",
         "10.5",
         "33",
         "2",
         "2",
         "111.13499999999999"
        ],
        [
         "25",
         "BR Sharath",
         "2",
         "2.0",
         "5",
         "0",
         "0",
         "40.0"
        ],
        [
         "26",
         "Bhuvneshwar Kumar",
         "23",
         "4.6",
         "29",
         "3",
         "0",
         "61.66600000000001"
        ],
        [
         "27",
         "Cameron Green",
         "255",
         "21.25",
         "178",
         "22",
         "10",
         "126.9225"
        ],
        [
         "28",
         "Darshan Nalkande",
         "12",
         "12.0",
         "11",
         "0",
         "1",
         "109.09"
        ],
        [
         "29",
         "Daryl Mitchell",
         "318",
         "24.46153846153846",
         "223",
         "27",
         "10",
         "130.44"
        ],
        [
         "30",
         "David Miller",
         "210",
         "23.333333333333332",
         "139",
         "20",
         "8",
         "130.52333333333334"
        ],
        [
         "31",
         "David Warner",
         "168",
         "21.0",
         "125",
         "17",
         "10",
         "108.305"
        ],
        [
         "32",
         "Deepak Hooda",
         "145",
         "16.11111111111111",
         "105",
         "16",
         "3",
         "132.2688888888889"
        ],
        [
         "33",
         "Devdutt Padikkal",
         "38",
         "5.428571428571429",
         "53",
         "3",
         "0",
         "60.42285714285714"
        ],
        [
         "34",
         "Dewald Brevis",
         "69",
         "23.0",
         "59",
         "3",
         "5",
         "78.68333333333334"
        ],
        [
         "35",
         "Dhruv Jurel",
         "195",
         "17.727272727272727",
         "141",
         "18",
         "7",
         "100.57636363636362"
        ],
        [
         "36",
         "Dinesh Karthik",
         "326",
         "25.076923076923077",
         "174",
         "27",
         "22",
         "174.30846153846153"
        ],
        [
         "37",
         "Donovan Ferreira",
         "8",
         "4.0",
         "11",
         "0",
         "0",
         "60.415"
        ],
        [
         "38",
         "Faf du Plessis",
         "438",
         "29.2",
         "271",
         "47",
         "21",
         "149.5"
        ],
        [
         "39",
         "Gerald Coetzee",
         "14",
         "2.8",
         "22",
         "0",
         "1",
         "48.410000000000004"
        ],
        [
         "40",
         "Glenn Maxwell",
         "52",
         "5.777777777777778",
         "43",
         "6",
         "2",
         "77.11333333333333"
        ],
        [
         "41",
         "Gulbadin Naib",
         "19",
         "19.0",
         "15",
         "1",
         "1",
         "126.66"
        ],
        [
         "42",
         "Hardik Pandya",
         "216",
         "16.615384615384617",
         "151",
         "17",
         "11",
         "132.54846153846154"
        ],
        [
         "43",
         "Harpreet Brar",
         "75",
         "10.714285714285714",
         "54",
         "8",
         "2",
         "118.20285714285714"
        ],
        [
         "44",
         "Harpreet Singh",
         "27",
         "13.5",
         "34",
         "2",
         "0",
         "80.17"
        ],
        [
         "45",
         "Harshal Patel",
         "13",
         "3.25",
         "19",
         "1",
         "1",
         "29.325"
        ],
        [
         "46",
         "Heinrich Klaasen",
         "479",
         "31.933333333333334",
         "280",
         "19",
         "38",
         "159.08933333333334"
        ],
        [
         "47",
         "Ishan Kishan",
         "320",
         "22.857142857142858",
         "215",
         "35",
         "16",
         "131.13071428571428"
        ],
        [
         "48",
         "Ishant Sharma",
         "1",
         "0.5",
         "7",
         "0",
         "0",
         "16.665"
        ],
        [
         "49",
         "Jake Fraser-McGurk",
         "330",
         "36.666666666666664",
         "141",
         "32",
         "28",
         "208.61777777777777"
        ]
       ],
       "shape": {
        "columns": 7,
        "rows": 170
       }
      },
      "text/html": [
       "<div>\n",
       "<style scoped>\n",
       "    .dataframe tbody tr th:only-of-type {\n",
       "        vertical-align: middle;\n",
       "    }\n",
       "\n",
       "    .dataframe tbody tr th {\n",
       "        vertical-align: top;\n",
       "    }\n",
       "\n",
       "    .dataframe thead th {\n",
       "        text-align: right;\n",
       "    }\n",
       "</style>\n",
       "<table border=\"1\" class=\"dataframe\">\n",
       "  <thead>\n",
       "    <tr style=\"text-align: right;\">\n",
       "      <th></th>\n",
       "      <th>Name</th>\n",
       "      <th>Total_Runs</th>\n",
       "      <th>Batting_Average</th>\n",
       "      <th>Balls_Faced</th>\n",
       "      <th>Fours</th>\n",
       "      <th>Sixes</th>\n",
       "      <th>Strike_Rate</th>\n",
       "    </tr>\n",
       "  </thead>\n",
       "  <tbody>\n",
       "    <tr>\n",
       "      <th>0</th>\n",
       "      <td>Abdul Samad</td>\n",
       "      <td>182</td>\n",
       "      <td>15.166667</td>\n",
       "      <td>108</td>\n",
       "      <td>15</td>\n",
       "      <td>11</td>\n",
       "      <td>150.197500</td>\n",
       "    </tr>\n",
       "    <tr>\n",
       "      <th>1</th>\n",
       "      <td>Abhinav Manohar</td>\n",
       "      <td>9</td>\n",
       "      <td>4.500000</td>\n",
       "      <td>16</td>\n",
       "      <td>1</td>\n",
       "      <td>0</td>\n",
       "      <td>53.570000</td>\n",
       "    </tr>\n",
       "    <tr>\n",
       "      <th>2</th>\n",
       "      <td>Abhishek Sharma</td>\n",
       "      <td>484</td>\n",
       "      <td>30.250000</td>\n",
       "      <td>237</td>\n",
       "      <td>36</td>\n",
       "      <td>42</td>\n",
       "      <td>189.463125</td>\n",
       "    </tr>\n",
       "    <tr>\n",
       "      <th>3</th>\n",
       "      <td>Abishek Porel</td>\n",
       "      <td>327</td>\n",
       "      <td>27.250000</td>\n",
       "      <td>205</td>\n",
       "      <td>36</td>\n",
       "      <td>13</td>\n",
       "      <td>147.810000</td>\n",
       "    </tr>\n",
       "    <tr>\n",
       "      <th>4</th>\n",
       "      <td>Aiden Markram</td>\n",
       "      <td>220</td>\n",
       "      <td>20.000000</td>\n",
       "      <td>177</td>\n",
       "      <td>18</td>\n",
       "      <td>4</td>\n",
       "      <td>98.717273</td>\n",
       "    </tr>\n",
       "    <tr>\n",
       "      <th>...</th>\n",
       "      <td>...</td>\n",
       "      <td>...</td>\n",
       "      <td>...</td>\n",
       "      <td>...</td>\n",
       "      <td>...</td>\n",
       "      <td>...</td>\n",
       "      <td>...</td>\n",
       "    </tr>\n",
       "    <tr>\n",
       "      <th>165</th>\n",
       "      <td>Washington Sundar</td>\n",
       "      <td>0</td>\n",
       "      <td>0.000000</td>\n",
       "      <td>1</td>\n",
       "      <td>0</td>\n",
       "      <td>0</td>\n",
       "      <td>0.000000</td>\n",
       "    </tr>\n",
       "    <tr>\n",
       "      <th>166</th>\n",
       "      <td>Will Jacks</td>\n",
       "      <td>230</td>\n",
       "      <td>28.750000</td>\n",
       "      <td>131</td>\n",
       "      <td>16</td>\n",
       "      <td>18</td>\n",
       "      <td>142.110000</td>\n",
       "    </tr>\n",
       "    <tr>\n",
       "      <th>167</th>\n",
       "      <td>Wriddhiman Saha</td>\n",
       "      <td>136</td>\n",
       "      <td>15.111111</td>\n",
       "      <td>115</td>\n",
       "      <td>18</td>\n",
       "      <td>3</td>\n",
       "      <td>106.727778</td>\n",
       "    </tr>\n",
       "    <tr>\n",
       "      <th>168</th>\n",
       "      <td>Yashasvi Jaiswal</td>\n",
       "      <td>435</td>\n",
       "      <td>29.000000</td>\n",
       "      <td>279</td>\n",
       "      <td>54</td>\n",
       "      <td>16</td>\n",
       "      <td>143.548000</td>\n",
       "    </tr>\n",
       "    <tr>\n",
       "      <th>169</th>\n",
       "      <td>Yudhvir Singh</td>\n",
       "      <td>21</td>\n",
       "      <td>10.500000</td>\n",
       "      <td>14</td>\n",
       "      <td>1</td>\n",
       "      <td>2</td>\n",
       "      <td>150.000000</td>\n",
       "    </tr>\n",
       "  </tbody>\n",
       "</table>\n",
       "<p>170 rows × 7 columns</p>\n",
       "</div>"
      ],
      "text/plain": [
       "                  Name  Total_Runs  Batting_Average  Balls_Faced  Fours  \\\n",
       "0          Abdul Samad         182        15.166667          108     15   \n",
       "1      Abhinav Manohar           9         4.500000           16      1   \n",
       "2      Abhishek Sharma         484        30.250000          237     36   \n",
       "3        Abishek Porel         327        27.250000          205     36   \n",
       "4        Aiden Markram         220        20.000000          177     18   \n",
       "..                 ...         ...              ...          ...    ...   \n",
       "165  Washington Sundar           0         0.000000            1      0   \n",
       "166         Will Jacks         230        28.750000          131     16   \n",
       "167    Wriddhiman Saha         136        15.111111          115     18   \n",
       "168   Yashasvi Jaiswal         435        29.000000          279     54   \n",
       "169      Yudhvir Singh          21        10.500000           14      1   \n",
       "\n",
       "     Sixes  Strike_Rate  \n",
       "0       11   150.197500  \n",
       "1        0    53.570000  \n",
       "2       42   189.463125  \n",
       "3       13   147.810000  \n",
       "4        4    98.717273  \n",
       "..     ...          ...  \n",
       "165      0     0.000000  \n",
       "166     18   142.110000  \n",
       "167      3   106.727778  \n",
       "168     16   143.548000  \n",
       "169      2   150.000000  \n",
       "\n",
       "[170 rows x 7 columns]"
      ]
     },
     "execution_count": 5,
     "metadata": {},
     "output_type": "execute_result"
    }
   ],
   "source": [
    "batting_summary"
   ]
  },
  {
   "cell_type": "code",
   "execution_count": 6,
   "metadata": {},
   "outputs": [],
   "source": [
    "batting_summary = batting_summary.reset_index()\n",
    "batting_summary.columns = ['Index', 'Name', 'Runs', 'Batting Average', 'Balls Faced', 'Fours', 'Sixes', 'Strike Rate']\n",
    "batting_summary.to_csv('CSVs/overall_batting_performances.csv', index=False)"
   ]
  },
  {
   "cell_type": "markdown",
   "metadata": {},
   "source": [
    "A new CSV file 'overall_batting_performances.csv' has been created where collective data of Runs, Balls Faced, Fours, Sixes and Strike Rate, grouped my Name is stored. "
   ]
  },
  {
   "cell_type": "markdown",
   "metadata": {},
   "source": [
    "## Dealing with 'overall_batting_performances.csv' file"
   ]
  },
  {
   "cell_type": "code",
   "execution_count": 7,
   "metadata": {},
   "outputs": [],
   "source": [
    "overall_batting = pd.read_csv('CSVs/overall_batting_performances.csv')"
   ]
  },
  {
   "cell_type": "code",
   "execution_count": 8,
   "metadata": {},
   "outputs": [
    {
     "data": {
      "application/vnd.microsoft.datawrangler.viewer.v0+json": {
       "columns": [
        {
         "name": "index",
         "rawType": "int64",
         "type": "integer"
        },
        {
         "name": "Index",
         "rawType": "int64",
         "type": "integer"
        },
        {
         "name": "Name",
         "rawType": "object",
         "type": "string"
        },
        {
         "name": "Runs",
         "rawType": "int64",
         "type": "integer"
        },
        {
         "name": "Batting Average",
         "rawType": "float64",
         "type": "float"
        },
        {
         "name": "Balls Faced",
         "rawType": "int64",
         "type": "integer"
        },
        {
         "name": "Fours",
         "rawType": "int64",
         "type": "integer"
        },
        {
         "name": "Sixes",
         "rawType": "int64",
         "type": "integer"
        },
        {
         "name": "Strike Rate",
         "rawType": "float64",
         "type": "float"
        }
       ],
       "conversionMethod": "pd.DataFrame",
       "ref": "571888b5-6a9c-4a7c-be79-68c5ed4b17c8",
       "rows": [
        [
         "0",
         "0",
         "Abdul Samad",
         "182",
         "15.166666666666666",
         "108",
         "15",
         "11",
         "150.19750000000002"
        ],
        [
         "1",
         "1",
         "Abhinav Manohar",
         "9",
         "4.5",
         "16",
         "1",
         "0",
         "53.57"
        ],
        [
         "2",
         "2",
         "Abhishek Sharma",
         "484",
         "30.25",
         "237",
         "36",
         "42",
         "189.463125"
        ],
        [
         "3",
         "3",
         "Abishek Porel",
         "327",
         "27.25",
         "205",
         "36",
         "13",
         "147.81"
        ],
        [
         "4",
         "4",
         "Aiden Markram",
         "220",
         "20.0",
         "177",
         "18",
         "4",
         "98.71727272727271"
        ]
       ],
       "shape": {
        "columns": 8,
        "rows": 5
       }
      },
      "text/html": [
       "<div>\n",
       "<style scoped>\n",
       "    .dataframe tbody tr th:only-of-type {\n",
       "        vertical-align: middle;\n",
       "    }\n",
       "\n",
       "    .dataframe tbody tr th {\n",
       "        vertical-align: top;\n",
       "    }\n",
       "\n",
       "    .dataframe thead th {\n",
       "        text-align: right;\n",
       "    }\n",
       "</style>\n",
       "<table border=\"1\" class=\"dataframe\">\n",
       "  <thead>\n",
       "    <tr style=\"text-align: right;\">\n",
       "      <th></th>\n",
       "      <th>Index</th>\n",
       "      <th>Name</th>\n",
       "      <th>Runs</th>\n",
       "      <th>Batting Average</th>\n",
       "      <th>Balls Faced</th>\n",
       "      <th>Fours</th>\n",
       "      <th>Sixes</th>\n",
       "      <th>Strike Rate</th>\n",
       "    </tr>\n",
       "  </thead>\n",
       "  <tbody>\n",
       "    <tr>\n",
       "      <th>0</th>\n",
       "      <td>0</td>\n",
       "      <td>Abdul Samad</td>\n",
       "      <td>182</td>\n",
       "      <td>15.166667</td>\n",
       "      <td>108</td>\n",
       "      <td>15</td>\n",
       "      <td>11</td>\n",
       "      <td>150.197500</td>\n",
       "    </tr>\n",
       "    <tr>\n",
       "      <th>1</th>\n",
       "      <td>1</td>\n",
       "      <td>Abhinav Manohar</td>\n",
       "      <td>9</td>\n",
       "      <td>4.500000</td>\n",
       "      <td>16</td>\n",
       "      <td>1</td>\n",
       "      <td>0</td>\n",
       "      <td>53.570000</td>\n",
       "    </tr>\n",
       "    <tr>\n",
       "      <th>2</th>\n",
       "      <td>2</td>\n",
       "      <td>Abhishek Sharma</td>\n",
       "      <td>484</td>\n",
       "      <td>30.250000</td>\n",
       "      <td>237</td>\n",
       "      <td>36</td>\n",
       "      <td>42</td>\n",
       "      <td>189.463125</td>\n",
       "    </tr>\n",
       "    <tr>\n",
       "      <th>3</th>\n",
       "      <td>3</td>\n",
       "      <td>Abishek Porel</td>\n",
       "      <td>327</td>\n",
       "      <td>27.250000</td>\n",
       "      <td>205</td>\n",
       "      <td>36</td>\n",
       "      <td>13</td>\n",
       "      <td>147.810000</td>\n",
       "    </tr>\n",
       "    <tr>\n",
       "      <th>4</th>\n",
       "      <td>4</td>\n",
       "      <td>Aiden Markram</td>\n",
       "      <td>220</td>\n",
       "      <td>20.000000</td>\n",
       "      <td>177</td>\n",
       "      <td>18</td>\n",
       "      <td>4</td>\n",
       "      <td>98.717273</td>\n",
       "    </tr>\n",
       "  </tbody>\n",
       "</table>\n",
       "</div>"
      ],
      "text/plain": [
       "   Index             Name  Runs  Batting Average  Balls Faced  Fours  Sixes  \\\n",
       "0      0      Abdul Samad   182        15.166667          108     15     11   \n",
       "1      1  Abhinav Manohar     9         4.500000           16      1      0   \n",
       "2      2  Abhishek Sharma   484        30.250000          237     36     42   \n",
       "3      3    Abishek Porel   327        27.250000          205     36     13   \n",
       "4      4    Aiden Markram   220        20.000000          177     18      4   \n",
       "\n",
       "   Strike Rate  \n",
       "0   150.197500  \n",
       "1    53.570000  \n",
       "2   189.463125  \n",
       "3   147.810000  \n",
       "4    98.717273  "
      ]
     },
     "execution_count": 8,
     "metadata": {},
     "output_type": "execute_result"
    }
   ],
   "source": [
    "overall_batting.head()"
   ]
  },
  {
   "cell_type": "markdown",
   "metadata": {},
   "source": [
    "#### Dropping the Index column"
   ]
  },
  {
   "cell_type": "code",
   "execution_count": 9,
   "metadata": {},
   "outputs": [],
   "source": [
    "overall_batting.drop('Index', axis=1, inplace=True)"
   ]
  },
  {
   "cell_type": "code",
   "execution_count": 10,
   "metadata": {},
   "outputs": [],
   "source": [
    "overall_batting.to_csv('CSVs/overall_batting_performances.csv', index=False)"
   ]
  },
  {
   "cell_type": "code",
   "execution_count": 11,
   "metadata": {},
   "outputs": [
    {
     "data": {
      "application/vnd.microsoft.datawrangler.viewer.v0+json": {
       "columns": [
        {
         "name": "index",
         "rawType": "int64",
         "type": "integer"
        },
        {
         "name": "Name",
         "rawType": "object",
         "type": "string"
        },
        {
         "name": "Runs",
         "rawType": "int64",
         "type": "integer"
        },
        {
         "name": "Batting Average",
         "rawType": "float64",
         "type": "float"
        },
        {
         "name": "Balls Faced",
         "rawType": "int64",
         "type": "integer"
        },
        {
         "name": "Fours",
         "rawType": "int64",
         "type": "integer"
        },
        {
         "name": "Sixes",
         "rawType": "int64",
         "type": "integer"
        },
        {
         "name": "Strike Rate",
         "rawType": "float64",
         "type": "float"
        }
       ],
       "conversionMethod": "pd.DataFrame",
       "ref": "49fda194-208b-4978-b3b1-fe4a846479a4",
       "rows": [
        [
         "0",
         "Abdul Samad",
         "182",
         "15.166666666666666",
         "108",
         "15",
         "11",
         "150.19750000000002"
        ],
        [
         "1",
         "Abhinav Manohar",
         "9",
         "4.5",
         "16",
         "1",
         "0",
         "53.57"
        ],
        [
         "2",
         "Abhishek Sharma",
         "484",
         "30.25",
         "237",
         "36",
         "42",
         "189.463125"
        ],
        [
         "3",
         "Abishek Porel",
         "327",
         "27.25",
         "205",
         "36",
         "13",
         "147.81"
        ],
        [
         "4",
         "Aiden Markram",
         "220",
         "20.0",
         "177",
         "18",
         "4",
         "98.71727272727271"
        ]
       ],
       "shape": {
        "columns": 7,
        "rows": 5
       }
      },
      "text/html": [
       "<div>\n",
       "<style scoped>\n",
       "    .dataframe tbody tr th:only-of-type {\n",
       "        vertical-align: middle;\n",
       "    }\n",
       "\n",
       "    .dataframe tbody tr th {\n",
       "        vertical-align: top;\n",
       "    }\n",
       "\n",
       "    .dataframe thead th {\n",
       "        text-align: right;\n",
       "    }\n",
       "</style>\n",
       "<table border=\"1\" class=\"dataframe\">\n",
       "  <thead>\n",
       "    <tr style=\"text-align: right;\">\n",
       "      <th></th>\n",
       "      <th>Name</th>\n",
       "      <th>Runs</th>\n",
       "      <th>Batting Average</th>\n",
       "      <th>Balls Faced</th>\n",
       "      <th>Fours</th>\n",
       "      <th>Sixes</th>\n",
       "      <th>Strike Rate</th>\n",
       "    </tr>\n",
       "  </thead>\n",
       "  <tbody>\n",
       "    <tr>\n",
       "      <th>0</th>\n",
       "      <td>Abdul Samad</td>\n",
       "      <td>182</td>\n",
       "      <td>15.166667</td>\n",
       "      <td>108</td>\n",
       "      <td>15</td>\n",
       "      <td>11</td>\n",
       "      <td>150.197500</td>\n",
       "    </tr>\n",
       "    <tr>\n",
       "      <th>1</th>\n",
       "      <td>Abhinav Manohar</td>\n",
       "      <td>9</td>\n",
       "      <td>4.500000</td>\n",
       "      <td>16</td>\n",
       "      <td>1</td>\n",
       "      <td>0</td>\n",
       "      <td>53.570000</td>\n",
       "    </tr>\n",
       "    <tr>\n",
       "      <th>2</th>\n",
       "      <td>Abhishek Sharma</td>\n",
       "      <td>484</td>\n",
       "      <td>30.250000</td>\n",
       "      <td>237</td>\n",
       "      <td>36</td>\n",
       "      <td>42</td>\n",
       "      <td>189.463125</td>\n",
       "    </tr>\n",
       "    <tr>\n",
       "      <th>3</th>\n",
       "      <td>Abishek Porel</td>\n",
       "      <td>327</td>\n",
       "      <td>27.250000</td>\n",
       "      <td>205</td>\n",
       "      <td>36</td>\n",
       "      <td>13</td>\n",
       "      <td>147.810000</td>\n",
       "    </tr>\n",
       "    <tr>\n",
       "      <th>4</th>\n",
       "      <td>Aiden Markram</td>\n",
       "      <td>220</td>\n",
       "      <td>20.000000</td>\n",
       "      <td>177</td>\n",
       "      <td>18</td>\n",
       "      <td>4</td>\n",
       "      <td>98.717273</td>\n",
       "    </tr>\n",
       "  </tbody>\n",
       "</table>\n",
       "</div>"
      ],
      "text/plain": [
       "              Name  Runs  Batting Average  Balls Faced  Fours  Sixes  \\\n",
       "0      Abdul Samad   182        15.166667          108     15     11   \n",
       "1  Abhinav Manohar     9         4.500000           16      1      0   \n",
       "2  Abhishek Sharma   484        30.250000          237     36     42   \n",
       "3    Abishek Porel   327        27.250000          205     36     13   \n",
       "4    Aiden Markram   220        20.000000          177     18      4   \n",
       "\n",
       "   Strike Rate  \n",
       "0   150.197500  \n",
       "1    53.570000  \n",
       "2   189.463125  \n",
       "3   147.810000  \n",
       "4    98.717273  "
      ]
     },
     "execution_count": 11,
     "metadata": {},
     "output_type": "execute_result"
    }
   ],
   "source": [
    "overall_batting.head()"
   ]
  },
  {
   "cell_type": "markdown",
   "metadata": {},
   "source": [
    "#### Rounding off the floating values of 'Batting Average' and 'Strike Rate' by 2"
   ]
  },
  {
   "cell_type": "code",
   "execution_count": 12,
   "metadata": {},
   "outputs": [],
   "source": [
    "overall_batting['Batting Average'] = overall_batting['Batting Average'].round(2)\n",
    "overall_batting['Strike Rate'] = overall_batting['Strike Rate'].round(2)"
   ]
  },
  {
   "cell_type": "code",
   "execution_count": 13,
   "metadata": {},
   "outputs": [
    {
     "data": {
      "application/vnd.microsoft.datawrangler.viewer.v0+json": {
       "columns": [
        {
         "name": "index",
         "rawType": "int64",
         "type": "integer"
        },
        {
         "name": "Name",
         "rawType": "object",
         "type": "string"
        },
        {
         "name": "Runs",
         "rawType": "int64",
         "type": "integer"
        },
        {
         "name": "Batting Average",
         "rawType": "float64",
         "type": "float"
        },
        {
         "name": "Balls Faced",
         "rawType": "int64",
         "type": "integer"
        },
        {
         "name": "Fours",
         "rawType": "int64",
         "type": "integer"
        },
        {
         "name": "Sixes",
         "rawType": "int64",
         "type": "integer"
        },
        {
         "name": "Strike Rate",
         "rawType": "float64",
         "type": "float"
        }
       ],
       "conversionMethod": "pd.DataFrame",
       "ref": "e182b48b-16e4-4e51-badb-bd1f57df9120",
       "rows": [
        [
         "0",
         "Abdul Samad",
         "182",
         "15.17",
         "108",
         "15",
         "11",
         "150.2"
        ],
        [
         "1",
         "Abhinav Manohar",
         "9",
         "4.5",
         "16",
         "1",
         "0",
         "53.57"
        ],
        [
         "2",
         "Abhishek Sharma",
         "484",
         "30.25",
         "237",
         "36",
         "42",
         "189.46"
        ],
        [
         "3",
         "Abishek Porel",
         "327",
         "27.25",
         "205",
         "36",
         "13",
         "147.81"
        ],
        [
         "4",
         "Aiden Markram",
         "220",
         "20.0",
         "177",
         "18",
         "4",
         "98.72"
        ]
       ],
       "shape": {
        "columns": 7,
        "rows": 5
       }
      },
      "text/html": [
       "<div>\n",
       "<style scoped>\n",
       "    .dataframe tbody tr th:only-of-type {\n",
       "        vertical-align: middle;\n",
       "    }\n",
       "\n",
       "    .dataframe tbody tr th {\n",
       "        vertical-align: top;\n",
       "    }\n",
       "\n",
       "    .dataframe thead th {\n",
       "        text-align: right;\n",
       "    }\n",
       "</style>\n",
       "<table border=\"1\" class=\"dataframe\">\n",
       "  <thead>\n",
       "    <tr style=\"text-align: right;\">\n",
       "      <th></th>\n",
       "      <th>Name</th>\n",
       "      <th>Runs</th>\n",
       "      <th>Batting Average</th>\n",
       "      <th>Balls Faced</th>\n",
       "      <th>Fours</th>\n",
       "      <th>Sixes</th>\n",
       "      <th>Strike Rate</th>\n",
       "    </tr>\n",
       "  </thead>\n",
       "  <tbody>\n",
       "    <tr>\n",
       "      <th>0</th>\n",
       "      <td>Abdul Samad</td>\n",
       "      <td>182</td>\n",
       "      <td>15.17</td>\n",
       "      <td>108</td>\n",
       "      <td>15</td>\n",
       "      <td>11</td>\n",
       "      <td>150.20</td>\n",
       "    </tr>\n",
       "    <tr>\n",
       "      <th>1</th>\n",
       "      <td>Abhinav Manohar</td>\n",
       "      <td>9</td>\n",
       "      <td>4.50</td>\n",
       "      <td>16</td>\n",
       "      <td>1</td>\n",
       "      <td>0</td>\n",
       "      <td>53.57</td>\n",
       "    </tr>\n",
       "    <tr>\n",
       "      <th>2</th>\n",
       "      <td>Abhishek Sharma</td>\n",
       "      <td>484</td>\n",
       "      <td>30.25</td>\n",
       "      <td>237</td>\n",
       "      <td>36</td>\n",
       "      <td>42</td>\n",
       "      <td>189.46</td>\n",
       "    </tr>\n",
       "    <tr>\n",
       "      <th>3</th>\n",
       "      <td>Abishek Porel</td>\n",
       "      <td>327</td>\n",
       "      <td>27.25</td>\n",
       "      <td>205</td>\n",
       "      <td>36</td>\n",
       "      <td>13</td>\n",
       "      <td>147.81</td>\n",
       "    </tr>\n",
       "    <tr>\n",
       "      <th>4</th>\n",
       "      <td>Aiden Markram</td>\n",
       "      <td>220</td>\n",
       "      <td>20.00</td>\n",
       "      <td>177</td>\n",
       "      <td>18</td>\n",
       "      <td>4</td>\n",
       "      <td>98.72</td>\n",
       "    </tr>\n",
       "  </tbody>\n",
       "</table>\n",
       "</div>"
      ],
      "text/plain": [
       "              Name  Runs  Batting Average  Balls Faced  Fours  Sixes  \\\n",
       "0      Abdul Samad   182            15.17          108     15     11   \n",
       "1  Abhinav Manohar     9             4.50           16      1      0   \n",
       "2  Abhishek Sharma   484            30.25          237     36     42   \n",
       "3    Abishek Porel   327            27.25          205     36     13   \n",
       "4    Aiden Markram   220            20.00          177     18      4   \n",
       "\n",
       "   Strike Rate  \n",
       "0       150.20  \n",
       "1        53.57  \n",
       "2       189.46  \n",
       "3       147.81  \n",
       "4        98.72  "
      ]
     },
     "execution_count": 13,
     "metadata": {},
     "output_type": "execute_result"
    }
   ],
   "source": [
    "overall_batting.head()"
   ]
  },
  {
   "cell_type": "code",
   "execution_count": 14,
   "metadata": {},
   "outputs": [],
   "source": [
    "overall_batting.to_csv('CSVs/overall_batting_performances.csv', index=False)"
   ]
  },
  {
   "cell_type": "markdown",
   "metadata": {},
   "source": [
    "#### Adding a new column named 'Boundary Percentage'"
   ]
  },
  {
   "cell_type": "code",
   "execution_count": 15,
   "metadata": {},
   "outputs": [],
   "source": [
    "overall_batting['Boundary Percentage'] = (((overall_batting['Fours'] * 4) + (overall_batting['Sixes'] * 6)) / overall_batting['Runs']) * 100\n",
    "\n",
    "overall_batting['Boundary Percentage'] = overall_batting['Boundary Percentage'].round(2)"
   ]
  },
  {
   "cell_type": "code",
   "execution_count": 16,
   "metadata": {},
   "outputs": [
    {
     "data": {
      "application/vnd.microsoft.datawrangler.viewer.v0+json": {
       "columns": [
        {
         "name": "index",
         "rawType": "int64",
         "type": "integer"
        },
        {
         "name": "Name",
         "rawType": "object",
         "type": "string"
        },
        {
         "name": "Runs",
         "rawType": "int64",
         "type": "integer"
        },
        {
         "name": "Batting Average",
         "rawType": "float64",
         "type": "float"
        },
        {
         "name": "Balls Faced",
         "rawType": "int64",
         "type": "integer"
        },
        {
         "name": "Fours",
         "rawType": "int64",
         "type": "integer"
        },
        {
         "name": "Sixes",
         "rawType": "int64",
         "type": "integer"
        },
        {
         "name": "Strike Rate",
         "rawType": "float64",
         "type": "float"
        },
        {
         "name": "Boundary Percentage",
         "rawType": "float64",
         "type": "float"
        }
       ],
       "conversionMethod": "pd.DataFrame",
       "ref": "9644e204-e9ef-4423-8726-a2e2e42dd472",
       "rows": [
        [
         "0",
         "Abdul Samad",
         "182",
         "15.17",
         "108",
         "15",
         "11",
         "150.2",
         "69.23"
        ],
        [
         "1",
         "Abhinav Manohar",
         "9",
         "4.5",
         "16",
         "1",
         "0",
         "53.57",
         "44.44"
        ],
        [
         "2",
         "Abhishek Sharma",
         "484",
         "30.25",
         "237",
         "36",
         "42",
         "189.46",
         "81.82"
        ],
        [
         "3",
         "Abishek Porel",
         "327",
         "27.25",
         "205",
         "36",
         "13",
         "147.81",
         "67.89"
        ],
        [
         "4",
         "Aiden Markram",
         "220",
         "20.0",
         "177",
         "18",
         "4",
         "98.72",
         "43.64"
        ]
       ],
       "shape": {
        "columns": 8,
        "rows": 5
       }
      },
      "text/html": [
       "<div>\n",
       "<style scoped>\n",
       "    .dataframe tbody tr th:only-of-type {\n",
       "        vertical-align: middle;\n",
       "    }\n",
       "\n",
       "    .dataframe tbody tr th {\n",
       "        vertical-align: top;\n",
       "    }\n",
       "\n",
       "    .dataframe thead th {\n",
       "        text-align: right;\n",
       "    }\n",
       "</style>\n",
       "<table border=\"1\" class=\"dataframe\">\n",
       "  <thead>\n",
       "    <tr style=\"text-align: right;\">\n",
       "      <th></th>\n",
       "      <th>Name</th>\n",
       "      <th>Runs</th>\n",
       "      <th>Batting Average</th>\n",
       "      <th>Balls Faced</th>\n",
       "      <th>Fours</th>\n",
       "      <th>Sixes</th>\n",
       "      <th>Strike Rate</th>\n",
       "      <th>Boundary Percentage</th>\n",
       "    </tr>\n",
       "  </thead>\n",
       "  <tbody>\n",
       "    <tr>\n",
       "      <th>0</th>\n",
       "      <td>Abdul Samad</td>\n",
       "      <td>182</td>\n",
       "      <td>15.17</td>\n",
       "      <td>108</td>\n",
       "      <td>15</td>\n",
       "      <td>11</td>\n",
       "      <td>150.20</td>\n",
       "      <td>69.23</td>\n",
       "    </tr>\n",
       "    <tr>\n",
       "      <th>1</th>\n",
       "      <td>Abhinav Manohar</td>\n",
       "      <td>9</td>\n",
       "      <td>4.50</td>\n",
       "      <td>16</td>\n",
       "      <td>1</td>\n",
       "      <td>0</td>\n",
       "      <td>53.57</td>\n",
       "      <td>44.44</td>\n",
       "    </tr>\n",
       "    <tr>\n",
       "      <th>2</th>\n",
       "      <td>Abhishek Sharma</td>\n",
       "      <td>484</td>\n",
       "      <td>30.25</td>\n",
       "      <td>237</td>\n",
       "      <td>36</td>\n",
       "      <td>42</td>\n",
       "      <td>189.46</td>\n",
       "      <td>81.82</td>\n",
       "    </tr>\n",
       "    <tr>\n",
       "      <th>3</th>\n",
       "      <td>Abishek Porel</td>\n",
       "      <td>327</td>\n",
       "      <td>27.25</td>\n",
       "      <td>205</td>\n",
       "      <td>36</td>\n",
       "      <td>13</td>\n",
       "      <td>147.81</td>\n",
       "      <td>67.89</td>\n",
       "    </tr>\n",
       "    <tr>\n",
       "      <th>4</th>\n",
       "      <td>Aiden Markram</td>\n",
       "      <td>220</td>\n",
       "      <td>20.00</td>\n",
       "      <td>177</td>\n",
       "      <td>18</td>\n",
       "      <td>4</td>\n",
       "      <td>98.72</td>\n",
       "      <td>43.64</td>\n",
       "    </tr>\n",
       "  </tbody>\n",
       "</table>\n",
       "</div>"
      ],
      "text/plain": [
       "              Name  Runs  Batting Average  Balls Faced  Fours  Sixes  \\\n",
       "0      Abdul Samad   182            15.17          108     15     11   \n",
       "1  Abhinav Manohar     9             4.50           16      1      0   \n",
       "2  Abhishek Sharma   484            30.25          237     36     42   \n",
       "3    Abishek Porel   327            27.25          205     36     13   \n",
       "4    Aiden Markram   220            20.00          177     18      4   \n",
       "\n",
       "   Strike Rate  Boundary Percentage  \n",
       "0       150.20                69.23  \n",
       "1        53.57                44.44  \n",
       "2       189.46                81.82  \n",
       "3       147.81                67.89  \n",
       "4        98.72                43.64  "
      ]
     },
     "execution_count": 16,
     "metadata": {},
     "output_type": "execute_result"
    }
   ],
   "source": [
    "overall_batting.head()"
   ]
  },
  {
   "cell_type": "code",
   "execution_count": 17,
   "metadata": {},
   "outputs": [],
   "source": [
    "overall_batting.to_csv('CSVs/overall_batting_performances.csv', index=False)"
   ]
  },
  {
   "cell_type": "markdown",
   "metadata": {},
   "source": [
    "## Dealing with 'bowling_performances_matchwise.csv' file"
   ]
  },
  {
   "cell_type": "code",
   "execution_count": 18,
   "metadata": {},
   "outputs": [],
   "source": [
    "bowling = pd.read_csv('CSVs/bowling_performances_matchwise.csv')"
   ]
  },
  {
   "cell_type": "code",
   "execution_count": 19,
   "metadata": {},
   "outputs": [
    {
     "data": {
      "application/vnd.microsoft.datawrangler.viewer.v0+json": {
       "columns": [
        {
         "name": "index",
         "rawType": "int64",
         "type": "integer"
        },
        {
         "name": "Name",
         "rawType": "object",
         "type": "string"
        },
        {
         "name": "Overs",
         "rawType": "float64",
         "type": "float"
        },
        {
         "name": "Maidens",
         "rawType": "int64",
         "type": "integer"
        },
        {
         "name": "Runs",
         "rawType": "int64",
         "type": "integer"
        },
        {
         "name": "Wickets",
         "rawType": "int64",
         "type": "integer"
        },
        {
         "name": "Economy",
         "rawType": "float64",
         "type": "float"
        },
        {
         "name": "Dots",
         "rawType": "int64",
         "type": "integer"
        },
        {
         "name": "Fours",
         "rawType": "int64",
         "type": "integer"
        },
        {
         "name": "Sixes",
         "rawType": "int64",
         "type": "integer"
        },
        {
         "name": "Wides",
         "rawType": "int64",
         "type": "integer"
        },
        {
         "name": "No Balls",
         "rawType": "int64",
         "type": "integer"
        }
       ],
       "conversionMethod": "pd.DataFrame",
       "ref": "d697e019-3bed-4400-845d-2ad6d51b467b",
       "rows": [
        [
         "0",
         "Deepak Chahar",
         "4.0",
         "0",
         "37",
         "1",
         "9.25",
         "10",
         "7",
         "0",
         "2",
         "0"
        ],
        [
         "1",
         "Tushar Deshpande",
         "4.0",
         "0",
         "47",
         "0",
         "11.75",
         "10",
         "4",
         "3",
         "5",
         "0"
        ],
        [
         "2",
         "Maheesh Theekshana",
         "4.0",
         "0",
         "36",
         "0",
         "9.0",
         "4",
         "1",
         "2",
         "0",
         "0"
        ],
        [
         "3",
         "Mustafizur Rahman",
         "4.0",
         "0",
         "29",
         "4",
         "7.25",
         "12",
         "3",
         "1",
         "2",
         "0"
        ],
        [
         "4",
         "Ravindra Jadeja",
         "4.0",
         "0",
         "21",
         "0",
         "5.25",
         "8",
         "1",
         "0",
         "0",
         "0"
        ]
       ],
       "shape": {
        "columns": 11,
        "rows": 5
       }
      },
      "text/html": [
       "<div>\n",
       "<style scoped>\n",
       "    .dataframe tbody tr th:only-of-type {\n",
       "        vertical-align: middle;\n",
       "    }\n",
       "\n",
       "    .dataframe tbody tr th {\n",
       "        vertical-align: top;\n",
       "    }\n",
       "\n",
       "    .dataframe thead th {\n",
       "        text-align: right;\n",
       "    }\n",
       "</style>\n",
       "<table border=\"1\" class=\"dataframe\">\n",
       "  <thead>\n",
       "    <tr style=\"text-align: right;\">\n",
       "      <th></th>\n",
       "      <th>Name</th>\n",
       "      <th>Overs</th>\n",
       "      <th>Maidens</th>\n",
       "      <th>Runs</th>\n",
       "      <th>Wickets</th>\n",
       "      <th>Economy</th>\n",
       "      <th>Dots</th>\n",
       "      <th>Fours</th>\n",
       "      <th>Sixes</th>\n",
       "      <th>Wides</th>\n",
       "      <th>No Balls</th>\n",
       "    </tr>\n",
       "  </thead>\n",
       "  <tbody>\n",
       "    <tr>\n",
       "      <th>0</th>\n",
       "      <td>Deepak Chahar</td>\n",
       "      <td>4.0</td>\n",
       "      <td>0</td>\n",
       "      <td>37</td>\n",
       "      <td>1</td>\n",
       "      <td>9.25</td>\n",
       "      <td>10</td>\n",
       "      <td>7</td>\n",
       "      <td>0</td>\n",
       "      <td>2</td>\n",
       "      <td>0</td>\n",
       "    </tr>\n",
       "    <tr>\n",
       "      <th>1</th>\n",
       "      <td>Tushar Deshpande</td>\n",
       "      <td>4.0</td>\n",
       "      <td>0</td>\n",
       "      <td>47</td>\n",
       "      <td>0</td>\n",
       "      <td>11.75</td>\n",
       "      <td>10</td>\n",
       "      <td>4</td>\n",
       "      <td>3</td>\n",
       "      <td>5</td>\n",
       "      <td>0</td>\n",
       "    </tr>\n",
       "    <tr>\n",
       "      <th>2</th>\n",
       "      <td>Maheesh Theekshana</td>\n",
       "      <td>4.0</td>\n",
       "      <td>0</td>\n",
       "      <td>36</td>\n",
       "      <td>0</td>\n",
       "      <td>9.00</td>\n",
       "      <td>4</td>\n",
       "      <td>1</td>\n",
       "      <td>2</td>\n",
       "      <td>0</td>\n",
       "      <td>0</td>\n",
       "    </tr>\n",
       "    <tr>\n",
       "      <th>3</th>\n",
       "      <td>Mustafizur Rahman</td>\n",
       "      <td>4.0</td>\n",
       "      <td>0</td>\n",
       "      <td>29</td>\n",
       "      <td>4</td>\n",
       "      <td>7.25</td>\n",
       "      <td>12</td>\n",
       "      <td>3</td>\n",
       "      <td>1</td>\n",
       "      <td>2</td>\n",
       "      <td>0</td>\n",
       "    </tr>\n",
       "    <tr>\n",
       "      <th>4</th>\n",
       "      <td>Ravindra Jadeja</td>\n",
       "      <td>4.0</td>\n",
       "      <td>0</td>\n",
       "      <td>21</td>\n",
       "      <td>0</td>\n",
       "      <td>5.25</td>\n",
       "      <td>8</td>\n",
       "      <td>1</td>\n",
       "      <td>0</td>\n",
       "      <td>0</td>\n",
       "      <td>0</td>\n",
       "    </tr>\n",
       "  </tbody>\n",
       "</table>\n",
       "</div>"
      ],
      "text/plain": [
       "                 Name  Overs  Maidens  Runs  Wickets  Economy  Dots  Fours  \\\n",
       "0       Deepak Chahar    4.0        0    37        1     9.25    10      7   \n",
       "1    Tushar Deshpande    4.0        0    47        0    11.75    10      4   \n",
       "2  Maheesh Theekshana    4.0        0    36        0     9.00     4      1   \n",
       "3   Mustafizur Rahman    4.0        0    29        4     7.25    12      3   \n",
       "4     Ravindra Jadeja    4.0        0    21        0     5.25     8      1   \n",
       "\n",
       "   Sixes  Wides  No Balls  \n",
       "0      0      2         0  \n",
       "1      3      5         0  \n",
       "2      2      0         0  \n",
       "3      1      2         0  \n",
       "4      0      0         0  "
      ]
     },
     "execution_count": 19,
     "metadata": {},
     "output_type": "execute_result"
    }
   ],
   "source": [
    "bowling.head()"
   ]
  },
  {
   "cell_type": "markdown",
   "metadata": {},
   "source": [
    "#### Grouping by Names and adding Overs, Maidens, Runs, Wickets, Economy, Dots, Fours, Sixes, Wides and No Balls"
   ]
  },
  {
   "cell_type": "code",
   "execution_count": 20,
   "metadata": {},
   "outputs": [],
   "source": [
    "bowling_summary = (\n",
    "    bowling.groupby('Name').agg(\n",
    "          Overs = ('Overs', 'sum'),\n",
    "          Maidens = ('Maidens', 'sum'),\n",
    "          Runs = ('Runs', 'sum'),\n",
    "          Wickets = ('Wickets', 'sum'),\n",
    "          Economy = ('Economy', 'mean'),\n",
    "          Dots = ('Dots', 'sum'),\n",
    "          Fours = ('Fours', 'sum'),\n",
    "          Sixes = ('Sixes', 'sum'),\n",
    "          Wides = ('Wides', 'sum'),\n",
    "          No_Balls = ('No Balls', 'sum')\n",
    "      )\n",
    ")"
   ]
  },
  {
   "cell_type": "code",
   "execution_count": 21,
   "metadata": {},
   "outputs": [],
   "source": [
    "bowling_summary = bowling_summary.reset_index()\n",
    "bowling_summary.columns = ['Name', 'Overs', 'Maidens', 'Runs', 'Wickets', 'Economy', 'Dots', 'Fours', 'Sixes', 'Wides', 'No Balls']\n",
    "bowling_summary.to_csv('CSVs/overall_bowling_performances.csv', index=False)"
   ]
  },
  {
   "cell_type": "markdown",
   "metadata": {},
   "source": [
    "A new CSV file 'overall_bowling_performances.csv' has been created where collective data of Overs, Maidens, Runs, Wickets, Economy, Dots, Fours, Sixes, Wides, No Balls, grouped my Name is stored."
   ]
  },
  {
   "cell_type": "markdown",
   "metadata": {},
   "source": [
    "## Dealing with 'overall_bowling_performances.csv' file"
   ]
  },
  {
   "cell_type": "code",
   "execution_count": 22,
   "metadata": {},
   "outputs": [],
   "source": [
    "overall_bowling = pd.read_csv('CSVs/overall_bowling_performances.csv')"
   ]
  },
  {
   "cell_type": "code",
   "execution_count": 23,
   "metadata": {},
   "outputs": [
    {
     "data": {
      "application/vnd.microsoft.datawrangler.viewer.v0+json": {
       "columns": [
        {
         "name": "index",
         "rawType": "int64",
         "type": "integer"
        },
        {
         "name": "Name",
         "rawType": "object",
         "type": "string"
        },
        {
         "name": "Overs",
         "rawType": "float64",
         "type": "float"
        },
        {
         "name": "Maidens",
         "rawType": "int64",
         "type": "integer"
        },
        {
         "name": "Runs",
         "rawType": "int64",
         "type": "integer"
        },
        {
         "name": "Wickets",
         "rawType": "int64",
         "type": "integer"
        },
        {
         "name": "Economy",
         "rawType": "float64",
         "type": "float"
        },
        {
         "name": "Dots",
         "rawType": "int64",
         "type": "integer"
        },
        {
         "name": "Fours",
         "rawType": "int64",
         "type": "integer"
        },
        {
         "name": "Sixes",
         "rawType": "int64",
         "type": "integer"
        },
        {
         "name": "Wides",
         "rawType": "int64",
         "type": "integer"
        },
        {
         "name": "No Balls",
         "rawType": "int64",
         "type": "integer"
        }
       ],
       "conversionMethod": "pd.DataFrame",
       "ref": "71447e7d-46f5-492c-99cc-0054056a3b64",
       "rows": [
        [
         "0",
         "Abhishek Sharma",
         "7.0",
         "0",
         "51",
         "2",
         "8.25",
         "12",
         "6",
         "0",
         "0",
         "0"
        ],
        [
         "1",
         "Aiden Markram",
         "2.0",
         "0",
         "15",
         "0",
         "7.5",
         "4",
         "0",
         "1",
         "0",
         "1"
        ],
        [
         "2",
         "Akash Deep",
         "3.3",
         "0",
         "55",
         "1",
         "15.71",
         "6",
         "2",
         "6",
         "2",
         "0"
        ],
        [
         "3",
         "Akash Madhwal",
         "18.1",
         "0",
         "205",
         "5",
         "11.47",
         "36",
         "23",
         "9",
         "8",
         "2"
        ],
        [
         "4",
         "Alzarri Joseph",
         "9.4",
         "0",
         "115",
         "1",
         "12.703333333333331",
         "18",
         "7",
         "8",
         "6",
         "0"
        ]
       ],
       "shape": {
        "columns": 11,
        "rows": 5
       }
      },
      "text/html": [
       "<div>\n",
       "<style scoped>\n",
       "    .dataframe tbody tr th:only-of-type {\n",
       "        vertical-align: middle;\n",
       "    }\n",
       "\n",
       "    .dataframe tbody tr th {\n",
       "        vertical-align: top;\n",
       "    }\n",
       "\n",
       "    .dataframe thead th {\n",
       "        text-align: right;\n",
       "    }\n",
       "</style>\n",
       "<table border=\"1\" class=\"dataframe\">\n",
       "  <thead>\n",
       "    <tr style=\"text-align: right;\">\n",
       "      <th></th>\n",
       "      <th>Name</th>\n",
       "      <th>Overs</th>\n",
       "      <th>Maidens</th>\n",
       "      <th>Runs</th>\n",
       "      <th>Wickets</th>\n",
       "      <th>Economy</th>\n",
       "      <th>Dots</th>\n",
       "      <th>Fours</th>\n",
       "      <th>Sixes</th>\n",
       "      <th>Wides</th>\n",
       "      <th>No Balls</th>\n",
       "    </tr>\n",
       "  </thead>\n",
       "  <tbody>\n",
       "    <tr>\n",
       "      <th>0</th>\n",
       "      <td>Abhishek Sharma</td>\n",
       "      <td>7.0</td>\n",
       "      <td>0</td>\n",
       "      <td>51</td>\n",
       "      <td>2</td>\n",
       "      <td>8.250000</td>\n",
       "      <td>12</td>\n",
       "      <td>6</td>\n",
       "      <td>0</td>\n",
       "      <td>0</td>\n",
       "      <td>0</td>\n",
       "    </tr>\n",
       "    <tr>\n",
       "      <th>1</th>\n",
       "      <td>Aiden Markram</td>\n",
       "      <td>2.0</td>\n",
       "      <td>0</td>\n",
       "      <td>15</td>\n",
       "      <td>0</td>\n",
       "      <td>7.500000</td>\n",
       "      <td>4</td>\n",
       "      <td>0</td>\n",
       "      <td>1</td>\n",
       "      <td>0</td>\n",
       "      <td>1</td>\n",
       "    </tr>\n",
       "    <tr>\n",
       "      <th>2</th>\n",
       "      <td>Akash Deep</td>\n",
       "      <td>3.3</td>\n",
       "      <td>0</td>\n",
       "      <td>55</td>\n",
       "      <td>1</td>\n",
       "      <td>15.710000</td>\n",
       "      <td>6</td>\n",
       "      <td>2</td>\n",
       "      <td>6</td>\n",
       "      <td>2</td>\n",
       "      <td>0</td>\n",
       "    </tr>\n",
       "    <tr>\n",
       "      <th>3</th>\n",
       "      <td>Akash Madhwal</td>\n",
       "      <td>18.1</td>\n",
       "      <td>0</td>\n",
       "      <td>205</td>\n",
       "      <td>5</td>\n",
       "      <td>11.470000</td>\n",
       "      <td>36</td>\n",
       "      <td>23</td>\n",
       "      <td>9</td>\n",
       "      <td>8</td>\n",
       "      <td>2</td>\n",
       "    </tr>\n",
       "    <tr>\n",
       "      <th>4</th>\n",
       "      <td>Alzarri Joseph</td>\n",
       "      <td>9.4</td>\n",
       "      <td>0</td>\n",
       "      <td>115</td>\n",
       "      <td>1</td>\n",
       "      <td>12.703333</td>\n",
       "      <td>18</td>\n",
       "      <td>7</td>\n",
       "      <td>8</td>\n",
       "      <td>6</td>\n",
       "      <td>0</td>\n",
       "    </tr>\n",
       "  </tbody>\n",
       "</table>\n",
       "</div>"
      ],
      "text/plain": [
       "              Name  Overs  Maidens  Runs  Wickets    Economy  Dots  Fours  \\\n",
       "0  Abhishek Sharma    7.0        0    51        2   8.250000    12      6   \n",
       "1    Aiden Markram    2.0        0    15        0   7.500000     4      0   \n",
       "2       Akash Deep    3.3        0    55        1  15.710000     6      2   \n",
       "3    Akash Madhwal   18.1        0   205        5  11.470000    36     23   \n",
       "4   Alzarri Joseph    9.4        0   115        1  12.703333    18      7   \n",
       "\n",
       "   Sixes  Wides  No Balls  \n",
       "0      0      0         0  \n",
       "1      1      0         1  \n",
       "2      6      2         0  \n",
       "3      9      8         2  \n",
       "4      8      6         0  "
      ]
     },
     "execution_count": 23,
     "metadata": {},
     "output_type": "execute_result"
    }
   ],
   "source": [
    "overall_bowling.head()"
   ]
  },
  {
   "cell_type": "markdown",
   "metadata": {},
   "source": [
    "#### Rounding off the floating values of 'Economy' by 2"
   ]
  },
  {
   "cell_type": "code",
   "execution_count": 24,
   "metadata": {},
   "outputs": [],
   "source": [
    "overall_bowling['Economy'] = overall_bowling['Economy'].round(2)"
   ]
  },
  {
   "cell_type": "code",
   "execution_count": 25,
   "metadata": {},
   "outputs": [
    {
     "data": {
      "application/vnd.microsoft.datawrangler.viewer.v0+json": {
       "columns": [
        {
         "name": "index",
         "rawType": "int64",
         "type": "integer"
        },
        {
         "name": "Name",
         "rawType": "object",
         "type": "string"
        },
        {
         "name": "Overs",
         "rawType": "float64",
         "type": "float"
        },
        {
         "name": "Maidens",
         "rawType": "int64",
         "type": "integer"
        },
        {
         "name": "Runs",
         "rawType": "int64",
         "type": "integer"
        },
        {
         "name": "Wickets",
         "rawType": "int64",
         "type": "integer"
        },
        {
         "name": "Economy",
         "rawType": "float64",
         "type": "float"
        },
        {
         "name": "Dots",
         "rawType": "int64",
         "type": "integer"
        },
        {
         "name": "Fours",
         "rawType": "int64",
         "type": "integer"
        },
        {
         "name": "Sixes",
         "rawType": "int64",
         "type": "integer"
        },
        {
         "name": "Wides",
         "rawType": "int64",
         "type": "integer"
        },
        {
         "name": "No Balls",
         "rawType": "int64",
         "type": "integer"
        }
       ],
       "conversionMethod": "pd.DataFrame",
       "ref": "d419d640-0ca0-497f-9bdd-dd0c8d1f9148",
       "rows": [
        [
         "0",
         "Abhishek Sharma",
         "7.0",
         "0",
         "51",
         "2",
         "8.25",
         "12",
         "6",
         "0",
         "0",
         "0"
        ],
        [
         "1",
         "Aiden Markram",
         "2.0",
         "0",
         "15",
         "0",
         "7.5",
         "4",
         "0",
         "1",
         "0",
         "1"
        ],
        [
         "2",
         "Akash Deep",
         "3.3",
         "0",
         "55",
         "1",
         "15.71",
         "6",
         "2",
         "6",
         "2",
         "0"
        ],
        [
         "3",
         "Akash Madhwal",
         "18.1",
         "0",
         "205",
         "5",
         "11.47",
         "36",
         "23",
         "9",
         "8",
         "2"
        ],
        [
         "4",
         "Alzarri Joseph",
         "9.4",
         "0",
         "115",
         "1",
         "12.7",
         "18",
         "7",
         "8",
         "6",
         "0"
        ]
       ],
       "shape": {
        "columns": 11,
        "rows": 5
       }
      },
      "text/html": [
       "<div>\n",
       "<style scoped>\n",
       "    .dataframe tbody tr th:only-of-type {\n",
       "        vertical-align: middle;\n",
       "    }\n",
       "\n",
       "    .dataframe tbody tr th {\n",
       "        vertical-align: top;\n",
       "    }\n",
       "\n",
       "    .dataframe thead th {\n",
       "        text-align: right;\n",
       "    }\n",
       "</style>\n",
       "<table border=\"1\" class=\"dataframe\">\n",
       "  <thead>\n",
       "    <tr style=\"text-align: right;\">\n",
       "      <th></th>\n",
       "      <th>Name</th>\n",
       "      <th>Overs</th>\n",
       "      <th>Maidens</th>\n",
       "      <th>Runs</th>\n",
       "      <th>Wickets</th>\n",
       "      <th>Economy</th>\n",
       "      <th>Dots</th>\n",
       "      <th>Fours</th>\n",
       "      <th>Sixes</th>\n",
       "      <th>Wides</th>\n",
       "      <th>No Balls</th>\n",
       "    </tr>\n",
       "  </thead>\n",
       "  <tbody>\n",
       "    <tr>\n",
       "      <th>0</th>\n",
       "      <td>Abhishek Sharma</td>\n",
       "      <td>7.0</td>\n",
       "      <td>0</td>\n",
       "      <td>51</td>\n",
       "      <td>2</td>\n",
       "      <td>8.25</td>\n",
       "      <td>12</td>\n",
       "      <td>6</td>\n",
       "      <td>0</td>\n",
       "      <td>0</td>\n",
       "      <td>0</td>\n",
       "    </tr>\n",
       "    <tr>\n",
       "      <th>1</th>\n",
       "      <td>Aiden Markram</td>\n",
       "      <td>2.0</td>\n",
       "      <td>0</td>\n",
       "      <td>15</td>\n",
       "      <td>0</td>\n",
       "      <td>7.50</td>\n",
       "      <td>4</td>\n",
       "      <td>0</td>\n",
       "      <td>1</td>\n",
       "      <td>0</td>\n",
       "      <td>1</td>\n",
       "    </tr>\n",
       "    <tr>\n",
       "      <th>2</th>\n",
       "      <td>Akash Deep</td>\n",
       "      <td>3.3</td>\n",
       "      <td>0</td>\n",
       "      <td>55</td>\n",
       "      <td>1</td>\n",
       "      <td>15.71</td>\n",
       "      <td>6</td>\n",
       "      <td>2</td>\n",
       "      <td>6</td>\n",
       "      <td>2</td>\n",
       "      <td>0</td>\n",
       "    </tr>\n",
       "    <tr>\n",
       "      <th>3</th>\n",
       "      <td>Akash Madhwal</td>\n",
       "      <td>18.1</td>\n",
       "      <td>0</td>\n",
       "      <td>205</td>\n",
       "      <td>5</td>\n",
       "      <td>11.47</td>\n",
       "      <td>36</td>\n",
       "      <td>23</td>\n",
       "      <td>9</td>\n",
       "      <td>8</td>\n",
       "      <td>2</td>\n",
       "    </tr>\n",
       "    <tr>\n",
       "      <th>4</th>\n",
       "      <td>Alzarri Joseph</td>\n",
       "      <td>9.4</td>\n",
       "      <td>0</td>\n",
       "      <td>115</td>\n",
       "      <td>1</td>\n",
       "      <td>12.70</td>\n",
       "      <td>18</td>\n",
       "      <td>7</td>\n",
       "      <td>8</td>\n",
       "      <td>6</td>\n",
       "      <td>0</td>\n",
       "    </tr>\n",
       "  </tbody>\n",
       "</table>\n",
       "</div>"
      ],
      "text/plain": [
       "              Name  Overs  Maidens  Runs  Wickets  Economy  Dots  Fours  \\\n",
       "0  Abhishek Sharma    7.0        0    51        2     8.25    12      6   \n",
       "1    Aiden Markram    2.0        0    15        0     7.50     4      0   \n",
       "2       Akash Deep    3.3        0    55        1    15.71     6      2   \n",
       "3    Akash Madhwal   18.1        0   205        5    11.47    36     23   \n",
       "4   Alzarri Joseph    9.4        0   115        1    12.70    18      7   \n",
       "\n",
       "   Sixes  Wides  No Balls  \n",
       "0      0      0         0  \n",
       "1      1      0         1  \n",
       "2      6      2         0  \n",
       "3      9      8         2  \n",
       "4      8      6         0  "
      ]
     },
     "execution_count": 25,
     "metadata": {},
     "output_type": "execute_result"
    }
   ],
   "source": [
    "overall_bowling.head()"
   ]
  },
  {
   "cell_type": "code",
   "execution_count": 26,
   "metadata": {},
   "outputs": [],
   "source": [
    "overall_bowling.to_csv('CSVs/overall_bowling_performances.csv', index=False)"
   ]
  },
  {
   "cell_type": "markdown",
   "metadata": {},
   "source": [
    "#### The 'Overs' column is not efficient enough. So it is replaced by 'Balls Bowled'."
   ]
  },
  {
   "cell_type": "code",
   "execution_count": 27,
   "metadata": {},
   "outputs": [],
   "source": [
    "overs = overall_bowling['Overs']\n",
    "full_overs = np.floor(overs).astype(int)\n",
    "extra_balls = ((overs - full_overs) * 10).astype(int)\n",
    "total_balls = (full_overs * 6) + extra_balls\n",
    "\n",
    "name_index = overall_bowling.columns.get_loc('Name')\n",
    "overall_bowling.insert(name_index + 1, 'Balls Bowled', total_balls)"
   ]
  },
  {
   "cell_type": "code",
   "execution_count": 28,
   "metadata": {},
   "outputs": [],
   "source": [
    "overall_bowling.drop('Overs', axis=1, inplace=True)"
   ]
  },
  {
   "cell_type": "code",
   "execution_count": 29,
   "metadata": {},
   "outputs": [
    {
     "data": {
      "application/vnd.microsoft.datawrangler.viewer.v0+json": {
       "columns": [
        {
         "name": "index",
         "rawType": "int64",
         "type": "integer"
        },
        {
         "name": "Name",
         "rawType": "object",
         "type": "string"
        },
        {
         "name": "Balls Bowled",
         "rawType": "int64",
         "type": "integer"
        },
        {
         "name": "Maidens",
         "rawType": "int64",
         "type": "integer"
        },
        {
         "name": "Runs",
         "rawType": "int64",
         "type": "integer"
        },
        {
         "name": "Wickets",
         "rawType": "int64",
         "type": "integer"
        },
        {
         "name": "Economy",
         "rawType": "float64",
         "type": "float"
        },
        {
         "name": "Dots",
         "rawType": "int64",
         "type": "integer"
        },
        {
         "name": "Fours",
         "rawType": "int64",
         "type": "integer"
        },
        {
         "name": "Sixes",
         "rawType": "int64",
         "type": "integer"
        },
        {
         "name": "Wides",
         "rawType": "int64",
         "type": "integer"
        },
        {
         "name": "No Balls",
         "rawType": "int64",
         "type": "integer"
        }
       ],
       "conversionMethod": "pd.DataFrame",
       "ref": "c514df4c-d5b4-425c-8f87-0a8935ba4624",
       "rows": [
        [
         "0",
         "Abhishek Sharma",
         "42",
         "0",
         "51",
         "2",
         "8.25",
         "12",
         "6",
         "0",
         "0",
         "0"
        ],
        [
         "1",
         "Aiden Markram",
         "12",
         "0",
         "15",
         "0",
         "7.5",
         "4",
         "0",
         "1",
         "0",
         "1"
        ],
        [
         "2",
         "Akash Deep",
         "20",
         "0",
         "55",
         "1",
         "15.71",
         "6",
         "2",
         "6",
         "2",
         "0"
        ],
        [
         "3",
         "Akash Madhwal",
         "109",
         "0",
         "205",
         "5",
         "11.47",
         "36",
         "23",
         "9",
         "8",
         "2"
        ],
        [
         "4",
         "Alzarri Joseph",
         "58",
         "0",
         "115",
         "1",
         "12.7",
         "18",
         "7",
         "8",
         "6",
         "0"
        ]
       ],
       "shape": {
        "columns": 11,
        "rows": 5
       }
      },
      "text/html": [
       "<div>\n",
       "<style scoped>\n",
       "    .dataframe tbody tr th:only-of-type {\n",
       "        vertical-align: middle;\n",
       "    }\n",
       "\n",
       "    .dataframe tbody tr th {\n",
       "        vertical-align: top;\n",
       "    }\n",
       "\n",
       "    .dataframe thead th {\n",
       "        text-align: right;\n",
       "    }\n",
       "</style>\n",
       "<table border=\"1\" class=\"dataframe\">\n",
       "  <thead>\n",
       "    <tr style=\"text-align: right;\">\n",
       "      <th></th>\n",
       "      <th>Name</th>\n",
       "      <th>Balls Bowled</th>\n",
       "      <th>Maidens</th>\n",
       "      <th>Runs</th>\n",
       "      <th>Wickets</th>\n",
       "      <th>Economy</th>\n",
       "      <th>Dots</th>\n",
       "      <th>Fours</th>\n",
       "      <th>Sixes</th>\n",
       "      <th>Wides</th>\n",
       "      <th>No Balls</th>\n",
       "    </tr>\n",
       "  </thead>\n",
       "  <tbody>\n",
       "    <tr>\n",
       "      <th>0</th>\n",
       "      <td>Abhishek Sharma</td>\n",
       "      <td>42</td>\n",
       "      <td>0</td>\n",
       "      <td>51</td>\n",
       "      <td>2</td>\n",
       "      <td>8.25</td>\n",
       "      <td>12</td>\n",
       "      <td>6</td>\n",
       "      <td>0</td>\n",
       "      <td>0</td>\n",
       "      <td>0</td>\n",
       "    </tr>\n",
       "    <tr>\n",
       "      <th>1</th>\n",
       "      <td>Aiden Markram</td>\n",
       "      <td>12</td>\n",
       "      <td>0</td>\n",
       "      <td>15</td>\n",
       "      <td>0</td>\n",
       "      <td>7.50</td>\n",
       "      <td>4</td>\n",
       "      <td>0</td>\n",
       "      <td>1</td>\n",
       "      <td>0</td>\n",
       "      <td>1</td>\n",
       "    </tr>\n",
       "    <tr>\n",
       "      <th>2</th>\n",
       "      <td>Akash Deep</td>\n",
       "      <td>20</td>\n",
       "      <td>0</td>\n",
       "      <td>55</td>\n",
       "      <td>1</td>\n",
       "      <td>15.71</td>\n",
       "      <td>6</td>\n",
       "      <td>2</td>\n",
       "      <td>6</td>\n",
       "      <td>2</td>\n",
       "      <td>0</td>\n",
       "    </tr>\n",
       "    <tr>\n",
       "      <th>3</th>\n",
       "      <td>Akash Madhwal</td>\n",
       "      <td>109</td>\n",
       "      <td>0</td>\n",
       "      <td>205</td>\n",
       "      <td>5</td>\n",
       "      <td>11.47</td>\n",
       "      <td>36</td>\n",
       "      <td>23</td>\n",
       "      <td>9</td>\n",
       "      <td>8</td>\n",
       "      <td>2</td>\n",
       "    </tr>\n",
       "    <tr>\n",
       "      <th>4</th>\n",
       "      <td>Alzarri Joseph</td>\n",
       "      <td>58</td>\n",
       "      <td>0</td>\n",
       "      <td>115</td>\n",
       "      <td>1</td>\n",
       "      <td>12.70</td>\n",
       "      <td>18</td>\n",
       "      <td>7</td>\n",
       "      <td>8</td>\n",
       "      <td>6</td>\n",
       "      <td>0</td>\n",
       "    </tr>\n",
       "  </tbody>\n",
       "</table>\n",
       "</div>"
      ],
      "text/plain": [
       "              Name  Balls Bowled  Maidens  Runs  Wickets  Economy  Dots  \\\n",
       "0  Abhishek Sharma            42        0    51        2     8.25    12   \n",
       "1    Aiden Markram            12        0    15        0     7.50     4   \n",
       "2       Akash Deep            20        0    55        1    15.71     6   \n",
       "3    Akash Madhwal           109        0   205        5    11.47    36   \n",
       "4   Alzarri Joseph            58        0   115        1    12.70    18   \n",
       "\n",
       "   Fours  Sixes  Wides  No Balls  \n",
       "0      6      0      0         0  \n",
       "1      0      1      0         1  \n",
       "2      2      6      2         0  \n",
       "3     23      9      8         2  \n",
       "4      7      8      6         0  "
      ]
     },
     "execution_count": 29,
     "metadata": {},
     "output_type": "execute_result"
    }
   ],
   "source": [
    "overall_bowling.head()"
   ]
  },
  {
   "cell_type": "code",
   "execution_count": 30,
   "metadata": {},
   "outputs": [],
   "source": [
    "overall_bowling.to_csv('CSVs/overall_bowling_performances.csv', index=False)"
   ]
  },
  {
   "cell_type": "markdown",
   "metadata": {},
   "source": [
    "#### Editing the 'Dots' column and making it 'Dots Percentage' as it is more efficient"
   ]
  },
  {
   "cell_type": "code",
   "execution_count": 31,
   "metadata": {},
   "outputs": [],
   "source": [
    "dots_percentage = (overall_bowling['Dots'] / overall_bowling['Balls Bowled']) * 100\n",
    "dots_index = overall_bowling.columns.get_loc('Dots')\n",
    "overall_bowling.insert(dots_index + 1, 'Dot Ball Percentage', dots_percentage.round(2))"
   ]
  },
  {
   "cell_type": "code",
   "execution_count": 32,
   "metadata": {},
   "outputs": [],
   "source": [
    "overall_bowling.drop('Dots', axis=1, inplace=True)"
   ]
  },
  {
   "cell_type": "code",
   "execution_count": 33,
   "metadata": {},
   "outputs": [
    {
     "data": {
      "application/vnd.microsoft.datawrangler.viewer.v0+json": {
       "columns": [
        {
         "name": "index",
         "rawType": "int64",
         "type": "integer"
        },
        {
         "name": "Name",
         "rawType": "object",
         "type": "string"
        },
        {
         "name": "Balls Bowled",
         "rawType": "int64",
         "type": "integer"
        },
        {
         "name": "Maidens",
         "rawType": "int64",
         "type": "integer"
        },
        {
         "name": "Runs",
         "rawType": "int64",
         "type": "integer"
        },
        {
         "name": "Wickets",
         "rawType": "int64",
         "type": "integer"
        },
        {
         "name": "Economy",
         "rawType": "float64",
         "type": "float"
        },
        {
         "name": "Dot Ball Percentage",
         "rawType": "float64",
         "type": "float"
        },
        {
         "name": "Fours",
         "rawType": "int64",
         "type": "integer"
        },
        {
         "name": "Sixes",
         "rawType": "int64",
         "type": "integer"
        },
        {
         "name": "Wides",
         "rawType": "int64",
         "type": "integer"
        },
        {
         "name": "No Balls",
         "rawType": "int64",
         "type": "integer"
        }
       ],
       "conversionMethod": "pd.DataFrame",
       "ref": "daebad61-90e3-4011-b0ae-cd3c710f13ce",
       "rows": [
        [
         "0",
         "Abhishek Sharma",
         "42",
         "0",
         "51",
         "2",
         "8.25",
         "28.57",
         "6",
         "0",
         "0",
         "0"
        ],
        [
         "1",
         "Aiden Markram",
         "12",
         "0",
         "15",
         "0",
         "7.5",
         "33.33",
         "0",
         "1",
         "0",
         "1"
        ],
        [
         "2",
         "Akash Deep",
         "20",
         "0",
         "55",
         "1",
         "15.71",
         "30.0",
         "2",
         "6",
         "2",
         "0"
        ],
        [
         "3",
         "Akash Madhwal",
         "109",
         "0",
         "205",
         "5",
         "11.47",
         "33.03",
         "23",
         "9",
         "8",
         "2"
        ],
        [
         "4",
         "Alzarri Joseph",
         "58",
         "0",
         "115",
         "1",
         "12.7",
         "31.03",
         "7",
         "8",
         "6",
         "0"
        ]
       ],
       "shape": {
        "columns": 11,
        "rows": 5
       }
      },
      "text/html": [
       "<div>\n",
       "<style scoped>\n",
       "    .dataframe tbody tr th:only-of-type {\n",
       "        vertical-align: middle;\n",
       "    }\n",
       "\n",
       "    .dataframe tbody tr th {\n",
       "        vertical-align: top;\n",
       "    }\n",
       "\n",
       "    .dataframe thead th {\n",
       "        text-align: right;\n",
       "    }\n",
       "</style>\n",
       "<table border=\"1\" class=\"dataframe\">\n",
       "  <thead>\n",
       "    <tr style=\"text-align: right;\">\n",
       "      <th></th>\n",
       "      <th>Name</th>\n",
       "      <th>Balls Bowled</th>\n",
       "      <th>Maidens</th>\n",
       "      <th>Runs</th>\n",
       "      <th>Wickets</th>\n",
       "      <th>Economy</th>\n",
       "      <th>Dot Ball Percentage</th>\n",
       "      <th>Fours</th>\n",
       "      <th>Sixes</th>\n",
       "      <th>Wides</th>\n",
       "      <th>No Balls</th>\n",
       "    </tr>\n",
       "  </thead>\n",
       "  <tbody>\n",
       "    <tr>\n",
       "      <th>0</th>\n",
       "      <td>Abhishek Sharma</td>\n",
       "      <td>42</td>\n",
       "      <td>0</td>\n",
       "      <td>51</td>\n",
       "      <td>2</td>\n",
       "      <td>8.25</td>\n",
       "      <td>28.57</td>\n",
       "      <td>6</td>\n",
       "      <td>0</td>\n",
       "      <td>0</td>\n",
       "      <td>0</td>\n",
       "    </tr>\n",
       "    <tr>\n",
       "      <th>1</th>\n",
       "      <td>Aiden Markram</td>\n",
       "      <td>12</td>\n",
       "      <td>0</td>\n",
       "      <td>15</td>\n",
       "      <td>0</td>\n",
       "      <td>7.50</td>\n",
       "      <td>33.33</td>\n",
       "      <td>0</td>\n",
       "      <td>1</td>\n",
       "      <td>0</td>\n",
       "      <td>1</td>\n",
       "    </tr>\n",
       "    <tr>\n",
       "      <th>2</th>\n",
       "      <td>Akash Deep</td>\n",
       "      <td>20</td>\n",
       "      <td>0</td>\n",
       "      <td>55</td>\n",
       "      <td>1</td>\n",
       "      <td>15.71</td>\n",
       "      <td>30.00</td>\n",
       "      <td>2</td>\n",
       "      <td>6</td>\n",
       "      <td>2</td>\n",
       "      <td>0</td>\n",
       "    </tr>\n",
       "    <tr>\n",
       "      <th>3</th>\n",
       "      <td>Akash Madhwal</td>\n",
       "      <td>109</td>\n",
       "      <td>0</td>\n",
       "      <td>205</td>\n",
       "      <td>5</td>\n",
       "      <td>11.47</td>\n",
       "      <td>33.03</td>\n",
       "      <td>23</td>\n",
       "      <td>9</td>\n",
       "      <td>8</td>\n",
       "      <td>2</td>\n",
       "    </tr>\n",
       "    <tr>\n",
       "      <th>4</th>\n",
       "      <td>Alzarri Joseph</td>\n",
       "      <td>58</td>\n",
       "      <td>0</td>\n",
       "      <td>115</td>\n",
       "      <td>1</td>\n",
       "      <td>12.70</td>\n",
       "      <td>31.03</td>\n",
       "      <td>7</td>\n",
       "      <td>8</td>\n",
       "      <td>6</td>\n",
       "      <td>0</td>\n",
       "    </tr>\n",
       "  </tbody>\n",
       "</table>\n",
       "</div>"
      ],
      "text/plain": [
       "              Name  Balls Bowled  Maidens  Runs  Wickets  Economy  \\\n",
       "0  Abhishek Sharma            42        0    51        2     8.25   \n",
       "1    Aiden Markram            12        0    15        0     7.50   \n",
       "2       Akash Deep            20        0    55        1    15.71   \n",
       "3    Akash Madhwal           109        0   205        5    11.47   \n",
       "4   Alzarri Joseph            58        0   115        1    12.70   \n",
       "\n",
       "   Dot Ball Percentage  Fours  Sixes  Wides  No Balls  \n",
       "0                28.57      6      0      0         0  \n",
       "1                33.33      0      1      0         1  \n",
       "2                30.00      2      6      2         0  \n",
       "3                33.03     23      9      8         2  \n",
       "4                31.03      7      8      6         0  "
      ]
     },
     "execution_count": 33,
     "metadata": {},
     "output_type": "execute_result"
    }
   ],
   "source": [
    "overall_bowling.head()"
   ]
  },
  {
   "cell_type": "code",
   "execution_count": 34,
   "metadata": {},
   "outputs": [],
   "source": [
    "overall_bowling.to_csv('CSVs/overall_bowling_performances.csv', index=False)"
   ]
  },
  {
   "cell_type": "markdown",
   "metadata": {},
   "source": [
    "#### Wides and No Balls are nothing but extra runs. So 'Extras' column is added in place of 'Wides' and 'No Balls'"
   ]
  },
  {
   "cell_type": "code",
   "execution_count": 35,
   "metadata": {},
   "outputs": [],
   "source": [
    "overall_bowling['Extras'] = overall_bowling['Wides'] + overall_bowling['No Balls']"
   ]
  },
  {
   "cell_type": "code",
   "execution_count": 36,
   "metadata": {},
   "outputs": [],
   "source": [
    "overall_bowling.drop(['Wides', 'No Balls'], axis=1, inplace=True)"
   ]
  },
  {
   "cell_type": "code",
   "execution_count": 37,
   "metadata": {},
   "outputs": [
    {
     "data": {
      "application/vnd.microsoft.datawrangler.viewer.v0+json": {
       "columns": [
        {
         "name": "index",
         "rawType": "int64",
         "type": "integer"
        },
        {
         "name": "Name",
         "rawType": "object",
         "type": "string"
        },
        {
         "name": "Balls Bowled",
         "rawType": "int64",
         "type": "integer"
        },
        {
         "name": "Maidens",
         "rawType": "int64",
         "type": "integer"
        },
        {
         "name": "Runs",
         "rawType": "int64",
         "type": "integer"
        },
        {
         "name": "Wickets",
         "rawType": "int64",
         "type": "integer"
        },
        {
         "name": "Economy",
         "rawType": "float64",
         "type": "float"
        },
        {
         "name": "Dot Ball Percentage",
         "rawType": "float64",
         "type": "float"
        },
        {
         "name": "Fours",
         "rawType": "int64",
         "type": "integer"
        },
        {
         "name": "Sixes",
         "rawType": "int64",
         "type": "integer"
        },
        {
         "name": "Extras",
         "rawType": "int64",
         "type": "integer"
        }
       ],
       "conversionMethod": "pd.DataFrame",
       "ref": "2325b753-dec8-4738-a4f7-9a3acd55c5fe",
       "rows": [
        [
         "0",
         "Abhishek Sharma",
         "42",
         "0",
         "51",
         "2",
         "8.25",
         "28.57",
         "6",
         "0",
         "0"
        ],
        [
         "1",
         "Aiden Markram",
         "12",
         "0",
         "15",
         "0",
         "7.5",
         "33.33",
         "0",
         "1",
         "1"
        ],
        [
         "2",
         "Akash Deep",
         "20",
         "0",
         "55",
         "1",
         "15.71",
         "30.0",
         "2",
         "6",
         "2"
        ],
        [
         "3",
         "Akash Madhwal",
         "109",
         "0",
         "205",
         "5",
         "11.47",
         "33.03",
         "23",
         "9",
         "10"
        ],
        [
         "4",
         "Alzarri Joseph",
         "58",
         "0",
         "115",
         "1",
         "12.7",
         "31.03",
         "7",
         "8",
         "6"
        ]
       ],
       "shape": {
        "columns": 10,
        "rows": 5
       }
      },
      "text/html": [
       "<div>\n",
       "<style scoped>\n",
       "    .dataframe tbody tr th:only-of-type {\n",
       "        vertical-align: middle;\n",
       "    }\n",
       "\n",
       "    .dataframe tbody tr th {\n",
       "        vertical-align: top;\n",
       "    }\n",
       "\n",
       "    .dataframe thead th {\n",
       "        text-align: right;\n",
       "    }\n",
       "</style>\n",
       "<table border=\"1\" class=\"dataframe\">\n",
       "  <thead>\n",
       "    <tr style=\"text-align: right;\">\n",
       "      <th></th>\n",
       "      <th>Name</th>\n",
       "      <th>Balls Bowled</th>\n",
       "      <th>Maidens</th>\n",
       "      <th>Runs</th>\n",
       "      <th>Wickets</th>\n",
       "      <th>Economy</th>\n",
       "      <th>Dot Ball Percentage</th>\n",
       "      <th>Fours</th>\n",
       "      <th>Sixes</th>\n",
       "      <th>Extras</th>\n",
       "    </tr>\n",
       "  </thead>\n",
       "  <tbody>\n",
       "    <tr>\n",
       "      <th>0</th>\n",
       "      <td>Abhishek Sharma</td>\n",
       "      <td>42</td>\n",
       "      <td>0</td>\n",
       "      <td>51</td>\n",
       "      <td>2</td>\n",
       "      <td>8.25</td>\n",
       "      <td>28.57</td>\n",
       "      <td>6</td>\n",
       "      <td>0</td>\n",
       "      <td>0</td>\n",
       "    </tr>\n",
       "    <tr>\n",
       "      <th>1</th>\n",
       "      <td>Aiden Markram</td>\n",
       "      <td>12</td>\n",
       "      <td>0</td>\n",
       "      <td>15</td>\n",
       "      <td>0</td>\n",
       "      <td>7.50</td>\n",
       "      <td>33.33</td>\n",
       "      <td>0</td>\n",
       "      <td>1</td>\n",
       "      <td>1</td>\n",
       "    </tr>\n",
       "    <tr>\n",
       "      <th>2</th>\n",
       "      <td>Akash Deep</td>\n",
       "      <td>20</td>\n",
       "      <td>0</td>\n",
       "      <td>55</td>\n",
       "      <td>1</td>\n",
       "      <td>15.71</td>\n",
       "      <td>30.00</td>\n",
       "      <td>2</td>\n",
       "      <td>6</td>\n",
       "      <td>2</td>\n",
       "    </tr>\n",
       "    <tr>\n",
       "      <th>3</th>\n",
       "      <td>Akash Madhwal</td>\n",
       "      <td>109</td>\n",
       "      <td>0</td>\n",
       "      <td>205</td>\n",
       "      <td>5</td>\n",
       "      <td>11.47</td>\n",
       "      <td>33.03</td>\n",
       "      <td>23</td>\n",
       "      <td>9</td>\n",
       "      <td>10</td>\n",
       "    </tr>\n",
       "    <tr>\n",
       "      <th>4</th>\n",
       "      <td>Alzarri Joseph</td>\n",
       "      <td>58</td>\n",
       "      <td>0</td>\n",
       "      <td>115</td>\n",
       "      <td>1</td>\n",
       "      <td>12.70</td>\n",
       "      <td>31.03</td>\n",
       "      <td>7</td>\n",
       "      <td>8</td>\n",
       "      <td>6</td>\n",
       "    </tr>\n",
       "  </tbody>\n",
       "</table>\n",
       "</div>"
      ],
      "text/plain": [
       "              Name  Balls Bowled  Maidens  Runs  Wickets  Economy  \\\n",
       "0  Abhishek Sharma            42        0    51        2     8.25   \n",
       "1    Aiden Markram            12        0    15        0     7.50   \n",
       "2       Akash Deep            20        0    55        1    15.71   \n",
       "3    Akash Madhwal           109        0   205        5    11.47   \n",
       "4   Alzarri Joseph            58        0   115        1    12.70   \n",
       "\n",
       "   Dot Ball Percentage  Fours  Sixes  Extras  \n",
       "0                28.57      6      0       0  \n",
       "1                33.33      0      1       1  \n",
       "2                30.00      2      6       2  \n",
       "3                33.03     23      9      10  \n",
       "4                31.03      7      8       6  "
      ]
     },
     "execution_count": 37,
     "metadata": {},
     "output_type": "execute_result"
    }
   ],
   "source": [
    "overall_bowling.head()"
   ]
  },
  {
   "cell_type": "code",
   "execution_count": 38,
   "metadata": {},
   "outputs": [],
   "source": [
    "overall_bowling.to_csv('CSVs/overall_bowling_performances.csv', index=False)"
   ]
  },
  {
   "cell_type": "markdown",
   "metadata": {},
   "source": [
    "#### Adding two more efficient metrics 'Bowling Average' and 'Bowling Strike Rate'"
   ]
  },
  {
   "cell_type": "code",
   "execution_count": 39,
   "metadata": {},
   "outputs": [],
   "source": [
    "economy_index = overall_bowling.columns.get_loc('Economy')\n",
    "bowling_avg = np.where(overall_bowling['Wickets'] == 0, 0, overall_bowling['Runs'] / overall_bowling['Wickets'])\n",
    "\n",
    "overall_bowling.insert(economy_index+1, 'Bowling Average', bowling_avg.round(2))"
   ]
  },
  {
   "cell_type": "code",
   "execution_count": 40,
   "metadata": {},
   "outputs": [],
   "source": [
    "avg_index = overall_bowling.columns.get_loc('Bowling Average')\n",
    "bowling_sr = np.where(overall_bowling['Wickets'] == 0, 0, overall_bowling['Balls Bowled'] / overall_bowling['Wickets'])\n",
    "\n",
    "overall_bowling.insert(avg_index+1, 'Bowling Strike Rate', bowling_sr.round(2))"
   ]
  },
  {
   "cell_type": "code",
   "execution_count": 41,
   "metadata": {},
   "outputs": [
    {
     "data": {
      "application/vnd.microsoft.datawrangler.viewer.v0+json": {
       "columns": [
        {
         "name": "index",
         "rawType": "int64",
         "type": "integer"
        },
        {
         "name": "Name",
         "rawType": "object",
         "type": "string"
        },
        {
         "name": "Balls Bowled",
         "rawType": "int64",
         "type": "integer"
        },
        {
         "name": "Maidens",
         "rawType": "int64",
         "type": "integer"
        },
        {
         "name": "Runs",
         "rawType": "int64",
         "type": "integer"
        },
        {
         "name": "Wickets",
         "rawType": "int64",
         "type": "integer"
        },
        {
         "name": "Economy",
         "rawType": "float64",
         "type": "float"
        },
        {
         "name": "Bowling Average",
         "rawType": "float64",
         "type": "float"
        },
        {
         "name": "Bowling Strike Rate",
         "rawType": "float64",
         "type": "float"
        },
        {
         "name": "Dot Ball Percentage",
         "rawType": "float64",
         "type": "float"
        },
        {
         "name": "Fours",
         "rawType": "int64",
         "type": "integer"
        },
        {
         "name": "Sixes",
         "rawType": "int64",
         "type": "integer"
        },
        {
         "name": "Extras",
         "rawType": "int64",
         "type": "integer"
        }
       ],
       "conversionMethod": "pd.DataFrame",
       "ref": "f760be03-4260-4618-bbd2-e3c043c4e657",
       "rows": [
        [
         "0",
         "Abhishek Sharma",
         "42",
         "0",
         "51",
         "2",
         "8.25",
         "25.5",
         "21.0",
         "28.57",
         "6",
         "0",
         "0"
        ],
        [
         "1",
         "Aiden Markram",
         "12",
         "0",
         "15",
         "0",
         "7.5",
         "0.0",
         "0.0",
         "33.33",
         "0",
         "1",
         "1"
        ],
        [
         "2",
         "Akash Deep",
         "20",
         "0",
         "55",
         "1",
         "15.71",
         "55.0",
         "20.0",
         "30.0",
         "2",
         "6",
         "2"
        ],
        [
         "3",
         "Akash Madhwal",
         "109",
         "0",
         "205",
         "5",
         "11.47",
         "41.0",
         "21.8",
         "33.03",
         "23",
         "9",
         "10"
        ],
        [
         "4",
         "Alzarri Joseph",
         "58",
         "0",
         "115",
         "1",
         "12.7",
         "115.0",
         "58.0",
         "31.03",
         "7",
         "8",
         "6"
        ]
       ],
       "shape": {
        "columns": 12,
        "rows": 5
       }
      },
      "text/html": [
       "<div>\n",
       "<style scoped>\n",
       "    .dataframe tbody tr th:only-of-type {\n",
       "        vertical-align: middle;\n",
       "    }\n",
       "\n",
       "    .dataframe tbody tr th {\n",
       "        vertical-align: top;\n",
       "    }\n",
       "\n",
       "    .dataframe thead th {\n",
       "        text-align: right;\n",
       "    }\n",
       "</style>\n",
       "<table border=\"1\" class=\"dataframe\">\n",
       "  <thead>\n",
       "    <tr style=\"text-align: right;\">\n",
       "      <th></th>\n",
       "      <th>Name</th>\n",
       "      <th>Balls Bowled</th>\n",
       "      <th>Maidens</th>\n",
       "      <th>Runs</th>\n",
       "      <th>Wickets</th>\n",
       "      <th>Economy</th>\n",
       "      <th>Bowling Average</th>\n",
       "      <th>Bowling Strike Rate</th>\n",
       "      <th>Dot Ball Percentage</th>\n",
       "      <th>Fours</th>\n",
       "      <th>Sixes</th>\n",
       "      <th>Extras</th>\n",
       "    </tr>\n",
       "  </thead>\n",
       "  <tbody>\n",
       "    <tr>\n",
       "      <th>0</th>\n",
       "      <td>Abhishek Sharma</td>\n",
       "      <td>42</td>\n",
       "      <td>0</td>\n",
       "      <td>51</td>\n",
       "      <td>2</td>\n",
       "      <td>8.25</td>\n",
       "      <td>25.5</td>\n",
       "      <td>21.0</td>\n",
       "      <td>28.57</td>\n",
       "      <td>6</td>\n",
       "      <td>0</td>\n",
       "      <td>0</td>\n",
       "    </tr>\n",
       "    <tr>\n",
       "      <th>1</th>\n",
       "      <td>Aiden Markram</td>\n",
       "      <td>12</td>\n",
       "      <td>0</td>\n",
       "      <td>15</td>\n",
       "      <td>0</td>\n",
       "      <td>7.50</td>\n",
       "      <td>0.0</td>\n",
       "      <td>0.0</td>\n",
       "      <td>33.33</td>\n",
       "      <td>0</td>\n",
       "      <td>1</td>\n",
       "      <td>1</td>\n",
       "    </tr>\n",
       "    <tr>\n",
       "      <th>2</th>\n",
       "      <td>Akash Deep</td>\n",
       "      <td>20</td>\n",
       "      <td>0</td>\n",
       "      <td>55</td>\n",
       "      <td>1</td>\n",
       "      <td>15.71</td>\n",
       "      <td>55.0</td>\n",
       "      <td>20.0</td>\n",
       "      <td>30.00</td>\n",
       "      <td>2</td>\n",
       "      <td>6</td>\n",
       "      <td>2</td>\n",
       "    </tr>\n",
       "    <tr>\n",
       "      <th>3</th>\n",
       "      <td>Akash Madhwal</td>\n",
       "      <td>109</td>\n",
       "      <td>0</td>\n",
       "      <td>205</td>\n",
       "      <td>5</td>\n",
       "      <td>11.47</td>\n",
       "      <td>41.0</td>\n",
       "      <td>21.8</td>\n",
       "      <td>33.03</td>\n",
       "      <td>23</td>\n",
       "      <td>9</td>\n",
       "      <td>10</td>\n",
       "    </tr>\n",
       "    <tr>\n",
       "      <th>4</th>\n",
       "      <td>Alzarri Joseph</td>\n",
       "      <td>58</td>\n",
       "      <td>0</td>\n",
       "      <td>115</td>\n",
       "      <td>1</td>\n",
       "      <td>12.70</td>\n",
       "      <td>115.0</td>\n",
       "      <td>58.0</td>\n",
       "      <td>31.03</td>\n",
       "      <td>7</td>\n",
       "      <td>8</td>\n",
       "      <td>6</td>\n",
       "    </tr>\n",
       "  </tbody>\n",
       "</table>\n",
       "</div>"
      ],
      "text/plain": [
       "              Name  Balls Bowled  Maidens  Runs  Wickets  Economy  \\\n",
       "0  Abhishek Sharma            42        0    51        2     8.25   \n",
       "1    Aiden Markram            12        0    15        0     7.50   \n",
       "2       Akash Deep            20        0    55        1    15.71   \n",
       "3    Akash Madhwal           109        0   205        5    11.47   \n",
       "4   Alzarri Joseph            58        0   115        1    12.70   \n",
       "\n",
       "   Bowling Average  Bowling Strike Rate  Dot Ball Percentage  Fours  Sixes  \\\n",
       "0             25.5                 21.0                28.57      6      0   \n",
       "1              0.0                  0.0                33.33      0      1   \n",
       "2             55.0                 20.0                30.00      2      6   \n",
       "3             41.0                 21.8                33.03     23      9   \n",
       "4            115.0                 58.0                31.03      7      8   \n",
       "\n",
       "   Extras  \n",
       "0       0  \n",
       "1       1  \n",
       "2       2  \n",
       "3      10  \n",
       "4       6  "
      ]
     },
     "execution_count": 41,
     "metadata": {},
     "output_type": "execute_result"
    }
   ],
   "source": [
    "overall_bowling.head()"
   ]
  },
  {
   "cell_type": "code",
   "execution_count": 42,
   "metadata": {},
   "outputs": [],
   "source": [
    "overall_bowling.to_csv('CSVs/overall_bowling_performances.csv', index=False)"
   ]
  },
  {
   "cell_type": "markdown",
   "metadata": {},
   "source": [
    "## Dealing with 'player_details.csv' file"
   ]
  },
  {
   "cell_type": "code",
   "execution_count": 43,
   "metadata": {},
   "outputs": [],
   "source": [
    "players = pd.read_csv('CSVs/player_details.csv')"
   ]
  },
  {
   "cell_type": "code",
   "execution_count": 44,
   "metadata": {},
   "outputs": [
    {
     "data": {
      "application/vnd.microsoft.datawrangler.viewer.v0+json": {
       "columns": [
        {
         "name": "index",
         "rawType": "int64",
         "type": "integer"
        },
        {
         "name": "Name",
         "rawType": "object",
         "type": "string"
        },
        {
         "name": "Batting Style",
         "rawType": "object",
         "type": "string"
        },
        {
         "name": "Bowling Style",
         "rawType": "object",
         "type": "string"
        },
        {
         "name": "Playing Role",
         "rawType": "object",
         "type": "string"
        },
        {
         "name": "Image Link",
         "rawType": "object",
         "type": "string"
        },
        {
         "name": "Name_F",
         "rawType": "object",
         "type": "string"
        }
       ],
       "conversionMethod": "pd.DataFrame",
       "ref": "d4743497-9330-4af5-a0d8-f90772eccc8b",
       "rows": [
        [
         "0",
         "Mustafizur Rahman",
         "Left hand Bat",
         "Left arm Fast medium",
         "Bowler",
         "https://img1.hscicdn.com/image/upload/f_auto/lsci/db/PICTURES/CMS/319700/319734.3.png",
         "Mustafizur Rahman"
        ],
        [
         "1",
         "Virat Kohli",
         "Right hand Bat",
         "Right arm Medium",
         "Top order Batter",
         "https://img1.hscicdn.com/image/upload/f_auto/lsci/db/PICTURES/CMS/316600/316605.3.png",
         "Virat Kohli"
        ],
        [
         "2",
         "Francois du Plessis",
         "Right hand Bat",
         "Legbreak",
         "Middle order Batter",
         "https://img1.hscicdn.com/image/upload/f_auto/lsci/db/PICTURES/CMS/316500/316559.1.png",
         "Faf du Plessis"
        ],
        [
         "3",
         "Rajat Manohar Patidar",
         "Right hand Bat",
         "Right arm Offbreak",
         "Top order Batter",
         "https://img1.hscicdn.com/image/upload/f_auto/lsci/db/PICTURES/CMS/390500/390563.2.png",
         "Rajat Patidar"
        ],
        [
         "4",
         "Glenn James Maxwell",
         "Right hand Bat",
         "Right arm Offbreak",
         "Batting Allrounder",
         "https://img1.hscicdn.com/image/upload/f_auto/lsci/db/PICTURES/CMS/389500/389563.5.png",
         "Glenn Maxwell"
        ]
       ],
       "shape": {
        "columns": 6,
        "rows": 5
       }
      },
      "text/html": [
       "<div>\n",
       "<style scoped>\n",
       "    .dataframe tbody tr th:only-of-type {\n",
       "        vertical-align: middle;\n",
       "    }\n",
       "\n",
       "    .dataframe tbody tr th {\n",
       "        vertical-align: top;\n",
       "    }\n",
       "\n",
       "    .dataframe thead th {\n",
       "        text-align: right;\n",
       "    }\n",
       "</style>\n",
       "<table border=\"1\" class=\"dataframe\">\n",
       "  <thead>\n",
       "    <tr style=\"text-align: right;\">\n",
       "      <th></th>\n",
       "      <th>Name</th>\n",
       "      <th>Batting Style</th>\n",
       "      <th>Bowling Style</th>\n",
       "      <th>Playing Role</th>\n",
       "      <th>Image Link</th>\n",
       "      <th>Name_F</th>\n",
       "    </tr>\n",
       "  </thead>\n",
       "  <tbody>\n",
       "    <tr>\n",
       "      <th>0</th>\n",
       "      <td>Mustafizur Rahman</td>\n",
       "      <td>Left hand Bat</td>\n",
       "      <td>Left arm Fast medium</td>\n",
       "      <td>Bowler</td>\n",
       "      <td>https://img1.hscicdn.com/image/upload/f_auto/l...</td>\n",
       "      <td>Mustafizur Rahman</td>\n",
       "    </tr>\n",
       "    <tr>\n",
       "      <th>1</th>\n",
       "      <td>Virat Kohli</td>\n",
       "      <td>Right hand Bat</td>\n",
       "      <td>Right arm Medium</td>\n",
       "      <td>Top order Batter</td>\n",
       "      <td>https://img1.hscicdn.com/image/upload/f_auto/l...</td>\n",
       "      <td>Virat Kohli</td>\n",
       "    </tr>\n",
       "    <tr>\n",
       "      <th>2</th>\n",
       "      <td>Francois du Plessis</td>\n",
       "      <td>Right hand Bat</td>\n",
       "      <td>Legbreak</td>\n",
       "      <td>Middle order Batter</td>\n",
       "      <td>https://img1.hscicdn.com/image/upload/f_auto/l...</td>\n",
       "      <td>Faf du Plessis</td>\n",
       "    </tr>\n",
       "    <tr>\n",
       "      <th>3</th>\n",
       "      <td>Rajat Manohar Patidar</td>\n",
       "      <td>Right hand Bat</td>\n",
       "      <td>Right arm Offbreak</td>\n",
       "      <td>Top order Batter</td>\n",
       "      <td>https://img1.hscicdn.com/image/upload/f_auto/l...</td>\n",
       "      <td>Rajat Patidar</td>\n",
       "    </tr>\n",
       "    <tr>\n",
       "      <th>4</th>\n",
       "      <td>Glenn James Maxwell</td>\n",
       "      <td>Right hand Bat</td>\n",
       "      <td>Right arm Offbreak</td>\n",
       "      <td>Batting Allrounder</td>\n",
       "      <td>https://img1.hscicdn.com/image/upload/f_auto/l...</td>\n",
       "      <td>Glenn Maxwell</td>\n",
       "    </tr>\n",
       "  </tbody>\n",
       "</table>\n",
       "</div>"
      ],
      "text/plain": [
       "                    Name   Batting Style         Bowling Style  \\\n",
       "0      Mustafizur Rahman   Left hand Bat  Left arm Fast medium   \n",
       "1            Virat Kohli  Right hand Bat      Right arm Medium   \n",
       "2    Francois du Plessis  Right hand Bat              Legbreak   \n",
       "3  Rajat Manohar Patidar  Right hand Bat    Right arm Offbreak   \n",
       "4    Glenn James Maxwell  Right hand Bat    Right arm Offbreak   \n",
       "\n",
       "          Playing Role                                         Image Link  \\\n",
       "0               Bowler  https://img1.hscicdn.com/image/upload/f_auto/l...   \n",
       "1     Top order Batter  https://img1.hscicdn.com/image/upload/f_auto/l...   \n",
       "2  Middle order Batter  https://img1.hscicdn.com/image/upload/f_auto/l...   \n",
       "3     Top order Batter  https://img1.hscicdn.com/image/upload/f_auto/l...   \n",
       "4   Batting Allrounder  https://img1.hscicdn.com/image/upload/f_auto/l...   \n",
       "\n",
       "              Name_F  \n",
       "0  Mustafizur Rahman  \n",
       "1        Virat Kohli  \n",
       "2     Faf du Plessis  \n",
       "3      Rajat Patidar  \n",
       "4      Glenn Maxwell  "
      ]
     },
     "execution_count": 44,
     "metadata": {},
     "output_type": "execute_result"
    }
   ],
   "source": [
    "players.head()"
   ]
  },
  {
   "cell_type": "code",
   "execution_count": 45,
   "metadata": {},
   "outputs": [],
   "source": [
    "players.drop_duplicates(inplace=True)"
   ]
  },
  {
   "cell_type": "code",
   "execution_count": 46,
   "metadata": {},
   "outputs": [],
   "source": [
    "players.dropna(inplace=True)"
   ]
  },
  {
   "cell_type": "code",
   "execution_count": 47,
   "metadata": {},
   "outputs": [],
   "source": [
    "players.to_csv('CSVs/player_details.csv', index=False)"
   ]
  },
  {
   "cell_type": "markdown",
   "metadata": {},
   "source": [
    "All duplicate and NaN values are removed (if any)"
   ]
  },
  {
   "cell_type": "code",
   "execution_count": 48,
   "metadata": {},
   "outputs": [],
   "source": [
    "# def fuzzy_match_name(name, name_list, threshold=40):\n",
    "#     match = process.extractOne(name, name_list, scorer=fuzz.token_sort_ratio)\n",
    "#     if match and match[1] >= threshold:\n",
    "#         return match[0]\n",
    "#     return name\n",
    "\n",
    "# # Apply fuzzy matching to all names in details_df\n",
    "# players[\"Name_F\"] = players[\"Name\"].apply(lambda name: fuzzy_match_name(name, list(list(overall_batting[\"Name\"].unique()) + list(overall_bowling[\"Name\"].unique()))))"
   ]
  },
  {
   "cell_type": "code",
   "execution_count": 49,
   "metadata": {},
   "outputs": [
    {
     "data": {
      "application/vnd.microsoft.datawrangler.viewer.v0+json": {
       "columns": [
        {
         "name": "index",
         "rawType": "int64",
         "type": "integer"
        },
        {
         "name": "Name",
         "rawType": "object",
         "type": "string"
        },
        {
         "name": "Batting Style",
         "rawType": "object",
         "type": "string"
        },
        {
         "name": "Bowling Style",
         "rawType": "object",
         "type": "string"
        },
        {
         "name": "Playing Role",
         "rawType": "object",
         "type": "string"
        },
        {
         "name": "Image Link",
         "rawType": "object",
         "type": "string"
        },
        {
         "name": "Name_F",
         "rawType": "object",
         "type": "string"
        }
       ],
       "conversionMethod": "pd.DataFrame",
       "ref": "6d280321-5f52-4ef8-932b-ea9513493fb7",
       "rows": [],
       "shape": {
        "columns": 6,
        "rows": 0
       }
      },
      "text/html": [
       "<div>\n",
       "<style scoped>\n",
       "    .dataframe tbody tr th:only-of-type {\n",
       "        vertical-align: middle;\n",
       "    }\n",
       "\n",
       "    .dataframe tbody tr th {\n",
       "        vertical-align: top;\n",
       "    }\n",
       "\n",
       "    .dataframe thead th {\n",
       "        text-align: right;\n",
       "    }\n",
       "</style>\n",
       "<table border=\"1\" class=\"dataframe\">\n",
       "  <thead>\n",
       "    <tr style=\"text-align: right;\">\n",
       "      <th></th>\n",
       "      <th>Name</th>\n",
       "      <th>Batting Style</th>\n",
       "      <th>Bowling Style</th>\n",
       "      <th>Playing Role</th>\n",
       "      <th>Image Link</th>\n",
       "      <th>Name_F</th>\n",
       "    </tr>\n",
       "  </thead>\n",
       "  <tbody>\n",
       "  </tbody>\n",
       "</table>\n",
       "</div>"
      ],
      "text/plain": [
       "Empty DataFrame\n",
       "Columns: [Name, Batting Style, Bowling Style, Playing Role, Image Link, Name_F]\n",
       "Index: []"
      ]
     },
     "execution_count": 49,
     "metadata": {},
     "output_type": "execute_result"
    }
   ],
   "source": [
    "players[players[\"Name_F\"].duplicated(keep=False)]"
   ]
  },
  {
   "cell_type": "code",
   "execution_count": 50,
   "metadata": {},
   "outputs": [],
   "source": [
    "# players.to_csv('CSVs/player_details.csv', index=False)"
   ]
  },
  {
   "cell_type": "code",
   "execution_count": 51,
   "metadata": {},
   "outputs": [],
   "source": [
    "players[\"Name\"] = players[\"Name_F\"]"
   ]
  },
  {
   "cell_type": "code",
   "execution_count": 53,
   "metadata": {},
   "outputs": [],
   "source": [
    "players.drop(\"Name_F\", axis=1, inplace=True)"
   ]
  },
  {
   "cell_type": "code",
   "execution_count": 54,
   "metadata": {},
   "outputs": [],
   "source": [
    "players.to_csv('CSVs/player_details.csv', index=False)"
   ]
  },
  {
   "cell_type": "code",
   "execution_count": null,
   "metadata": {},
   "outputs": [],
   "source": []
  }
 ],
 "metadata": {
  "kernelspec": {
   "display_name": "Python 3",
   "language": "python",
   "name": "python3"
  },
  "language_info": {
   "codemirror_mode": {
    "name": "ipython",
    "version": 3
   },
   "file_extension": ".py",
   "mimetype": "text/x-python",
   "name": "python",
   "nbconvert_exporter": "python",
   "pygments_lexer": "ipython3",
   "version": "3.11.8"
  }
 },
 "nbformat": 4,
 "nbformat_minor": 2
}
